{
 "cells": [
  {
   "cell_type": "markdown",
   "id": "convinced-heading",
   "metadata": {},
   "source": [
    "# Data Cleaning"
   ]
  },
  {
   "cell_type": "code",
   "execution_count": 1,
   "id": "romantic-spiritual",
   "metadata": {},
   "outputs": [],
   "source": [
    "import os\n",
    "import pandas as pd\n",
    "import numpy as np"
   ]
  },
  {
   "cell_type": "markdown",
   "id": "strong-cornwall",
   "metadata": {},
   "source": [
    "Read data in from csv and create a pandas dataframe"
   ]
  },
  {
   "cell_type": "code",
   "execution_count": 2,
   "id": "expected-campbell",
   "metadata": {},
   "outputs": [
    {
     "name": "stdout",
     "output_type": "stream",
     "text": [
      "/Users/williamshaw/Projects/NHL/Big-Data-Cup-2021/data/hackathon_scouting.csv\n"
     ]
    }
   ],
   "source": [
    "# construct path to Erie Otters dataset\n",
    "path = os.path.abspath(os.path.join(os.getcwd(), '..'))\n",
    "path = os.path.abspath(os.path.join(path, 'data/hackathon_scouting.csv'))\n",
    "print(path)"
   ]
  },
  {
   "cell_type": "code",
   "execution_count": 3,
   "id": "entire-prize",
   "metadata": {},
   "outputs": [
    {
     "data": {
      "text/html": [
       "<div>\n",
       "<style scoped>\n",
       "    .dataframe tbody tr th:only-of-type {\n",
       "        vertical-align: middle;\n",
       "    }\n",
       "\n",
       "    .dataframe tbody tr th {\n",
       "        vertical-align: top;\n",
       "    }\n",
       "\n",
       "    .dataframe thead th {\n",
       "        text-align: right;\n",
       "    }\n",
       "</style>\n",
       "<table border=\"1\" class=\"dataframe\">\n",
       "  <thead>\n",
       "    <tr style=\"text-align: right;\">\n",
       "      <th></th>\n",
       "      <th>game_date</th>\n",
       "      <th>Home Team</th>\n",
       "      <th>Away Team</th>\n",
       "      <th>Period</th>\n",
       "      <th>Clock</th>\n",
       "      <th>Home Team Skaters</th>\n",
       "      <th>Away Team Skaters</th>\n",
       "      <th>Home Team Goals</th>\n",
       "      <th>Away Team Goals</th>\n",
       "      <th>Team</th>\n",
       "      <th>...</th>\n",
       "      <th>Event</th>\n",
       "      <th>X Coordinate</th>\n",
       "      <th>Y Coordinate</th>\n",
       "      <th>Detail 1</th>\n",
       "      <th>Detail 2</th>\n",
       "      <th>Detail 3</th>\n",
       "      <th>Detail 4</th>\n",
       "      <th>Player 2</th>\n",
       "      <th>X Coordinate 2</th>\n",
       "      <th>Y Coordinate 2</th>\n",
       "    </tr>\n",
       "  </thead>\n",
       "  <tbody>\n",
       "    <tr>\n",
       "      <th>0</th>\n",
       "      <td>2019-09-20</td>\n",
       "      <td>Erie Otters</td>\n",
       "      <td>Sudbury Wolves</td>\n",
       "      <td>1</td>\n",
       "      <td>20:00</td>\n",
       "      <td>5</td>\n",
       "      <td>5</td>\n",
       "      <td>0</td>\n",
       "      <td>0</td>\n",
       "      <td>Sudbury Wolves</td>\n",
       "      <td>...</td>\n",
       "      <td>Faceoff Win</td>\n",
       "      <td>100</td>\n",
       "      <td>43</td>\n",
       "      <td>Forehand</td>\n",
       "      <td>NaN</td>\n",
       "      <td>NaN</td>\n",
       "      <td>NaN</td>\n",
       "      <td>Connor Lockhart</td>\n",
       "      <td>NaN</td>\n",
       "      <td>NaN</td>\n",
       "    </tr>\n",
       "    <tr>\n",
       "      <th>1</th>\n",
       "      <td>2019-09-20</td>\n",
       "      <td>Erie Otters</td>\n",
       "      <td>Sudbury Wolves</td>\n",
       "      <td>1</td>\n",
       "      <td>19:58</td>\n",
       "      <td>5</td>\n",
       "      <td>5</td>\n",
       "      <td>0</td>\n",
       "      <td>0</td>\n",
       "      <td>Sudbury Wolves</td>\n",
       "      <td>...</td>\n",
       "      <td>Puck Recovery</td>\n",
       "      <td>67</td>\n",
       "      <td>77</td>\n",
       "      <td>NaN</td>\n",
       "      <td>NaN</td>\n",
       "      <td>NaN</td>\n",
       "      <td>NaN</td>\n",
       "      <td>NaN</td>\n",
       "      <td>NaN</td>\n",
       "      <td>NaN</td>\n",
       "    </tr>\n",
       "    <tr>\n",
       "      <th>2</th>\n",
       "      <td>2019-09-20</td>\n",
       "      <td>Erie Otters</td>\n",
       "      <td>Sudbury Wolves</td>\n",
       "      <td>1</td>\n",
       "      <td>19:53</td>\n",
       "      <td>5</td>\n",
       "      <td>5</td>\n",
       "      <td>0</td>\n",
       "      <td>0</td>\n",
       "      <td>Sudbury Wolves</td>\n",
       "      <td>...</td>\n",
       "      <td>Incomplete Play</td>\n",
       "      <td>45</td>\n",
       "      <td>49</td>\n",
       "      <td>Direct</td>\n",
       "      <td>NaN</td>\n",
       "      <td>NaN</td>\n",
       "      <td>NaN</td>\n",
       "      <td>Blake Murray</td>\n",
       "      <td>74.0</td>\n",
       "      <td>35.0</td>\n",
       "    </tr>\n",
       "    <tr>\n",
       "      <th>3</th>\n",
       "      <td>2019-09-20</td>\n",
       "      <td>Erie Otters</td>\n",
       "      <td>Sudbury Wolves</td>\n",
       "      <td>1</td>\n",
       "      <td>19:52</td>\n",
       "      <td>5</td>\n",
       "      <td>5</td>\n",
       "      <td>0</td>\n",
       "      <td>0</td>\n",
       "      <td>Erie Otters</td>\n",
       "      <td>...</td>\n",
       "      <td>Puck Recovery</td>\n",
       "      <td>89</td>\n",
       "      <td>36</td>\n",
       "      <td>NaN</td>\n",
       "      <td>NaN</td>\n",
       "      <td>NaN</td>\n",
       "      <td>NaN</td>\n",
       "      <td>NaN</td>\n",
       "      <td>NaN</td>\n",
       "      <td>NaN</td>\n",
       "    </tr>\n",
       "    <tr>\n",
       "      <th>4</th>\n",
       "      <td>2019-09-20</td>\n",
       "      <td>Erie Otters</td>\n",
       "      <td>Sudbury Wolves</td>\n",
       "      <td>1</td>\n",
       "      <td>19:51</td>\n",
       "      <td>5</td>\n",
       "      <td>5</td>\n",
       "      <td>0</td>\n",
       "      <td>0</td>\n",
       "      <td>Erie Otters</td>\n",
       "      <td>...</td>\n",
       "      <td>Incomplete Play</td>\n",
       "      <td>82</td>\n",
       "      <td>49</td>\n",
       "      <td>Direct</td>\n",
       "      <td>NaN</td>\n",
       "      <td>NaN</td>\n",
       "      <td>NaN</td>\n",
       "      <td>Connor Lockhart</td>\n",
       "      <td>94.0</td>\n",
       "      <td>46.0</td>\n",
       "    </tr>\n",
       "  </tbody>\n",
       "</table>\n",
       "<p>5 rows × 21 columns</p>\n",
       "</div>"
      ],
      "text/plain": [
       "    game_date    Home Team       Away Team  Period  Clock  Home Team Skaters  \\\n",
       "0  2019-09-20  Erie Otters  Sudbury Wolves       1  20:00                  5   \n",
       "1  2019-09-20  Erie Otters  Sudbury Wolves       1  19:58                  5   \n",
       "2  2019-09-20  Erie Otters  Sudbury Wolves       1  19:53                  5   \n",
       "3  2019-09-20  Erie Otters  Sudbury Wolves       1  19:52                  5   \n",
       "4  2019-09-20  Erie Otters  Sudbury Wolves       1  19:51                  5   \n",
       "\n",
       "   Away Team Skaters  Home Team Goals  Away Team Goals            Team  ...  \\\n",
       "0                  5                0                0  Sudbury Wolves  ...   \n",
       "1                  5                0                0  Sudbury Wolves  ...   \n",
       "2                  5                0                0  Sudbury Wolves  ...   \n",
       "3                  5                0                0     Erie Otters  ...   \n",
       "4                  5                0                0     Erie Otters  ...   \n",
       "\n",
       "             Event X Coordinate  Y Coordinate  Detail 1 Detail 2 Detail 3  \\\n",
       "0      Faceoff Win          100            43  Forehand      NaN      NaN   \n",
       "1    Puck Recovery           67            77       NaN      NaN      NaN   \n",
       "2  Incomplete Play           45            49    Direct      NaN      NaN   \n",
       "3    Puck Recovery           89            36       NaN      NaN      NaN   \n",
       "4  Incomplete Play           82            49    Direct      NaN      NaN   \n",
       "\n",
       "  Detail 4         Player 2 X Coordinate 2  Y Coordinate 2  \n",
       "0      NaN  Connor Lockhart            NaN             NaN  \n",
       "1      NaN              NaN            NaN             NaN  \n",
       "2      NaN     Blake Murray           74.0            35.0  \n",
       "3      NaN              NaN            NaN             NaN  \n",
       "4      NaN  Connor Lockhart           94.0            46.0  \n",
       "\n",
       "[5 rows x 21 columns]"
      ]
     },
     "execution_count": 3,
     "metadata": {},
     "output_type": "execute_result"
    }
   ],
   "source": [
    "# create a pandas dataframe from dataset\n",
    "df = pd.read_csv(path)\n",
    "df.head()"
   ]
  },
  {
   "cell_type": "code",
   "execution_count": 4,
   "id": "growing-transformation",
   "metadata": {},
   "outputs": [
    {
     "name": "stdout",
     "output_type": "stream",
     "text": [
      "<class 'pandas.core.frame.DataFrame'>\n",
      "RangeIndex: 75873 entries, 0 to 75872\n",
      "Data columns (total 21 columns):\n",
      " #   Column             Non-Null Count  Dtype  \n",
      "---  ------             --------------  -----  \n",
      " 0   game_date          75873 non-null  object \n",
      " 1   Home Team          75873 non-null  object \n",
      " 2   Away Team          75873 non-null  object \n",
      " 3   Period             75873 non-null  int64  \n",
      " 4   Clock              75873 non-null  object \n",
      " 5   Home Team Skaters  75873 non-null  int64  \n",
      " 6   Away Team Skaters  75873 non-null  int64  \n",
      " 7   Home Team Goals    75873 non-null  int64  \n",
      " 8   Away Team Goals    75873 non-null  int64  \n",
      " 9   Team               75873 non-null  object \n",
      " 10  Player             75873 non-null  object \n",
      " 11  Event              75873 non-null  object \n",
      " 12  X Coordinate       75873 non-null  int64  \n",
      " 13  Y Coordinate       75873 non-null  int64  \n",
      " 14  Detail 1           51958 non-null  object \n",
      " 15  Detail 2           5180 non-null   object \n",
      " 16  Detail 3           5180 non-null   object \n",
      " 17  Detail 4           5180 non-null   object \n",
      " 18  Player 2           41858 non-null  object \n",
      " 19  X Coordinate 2     32668 non-null  float64\n",
      " 20  Y Coordinate 2     32668 non-null  float64\n",
      "dtypes: float64(2), int64(7), object(12)\n",
      "memory usage: 12.2+ MB\n"
     ]
    }
   ],
   "source": [
    "# print info of variables\n",
    "df.info(verbose=True)"
   ]
  },
  {
   "cell_type": "markdown",
   "id": "positive-emerald",
   "metadata": {},
   "source": [
    "### Convert Variable Names\n",
    "Instead of using spaces, use underscores"
   ]
  },
  {
   "cell_type": "code",
   "execution_count": 5,
   "id": "negative-duration",
   "metadata": {},
   "outputs": [],
   "source": [
    "# convert column names\n",
    "df.columns = ['game_date', \n",
    "              'home_team',\n",
    "              'away_team',\n",
    "              'period',\n",
    "              'clock',\n",
    "              'home_team_skaters',\n",
    "              'away_team_skaters',\n",
    "              'home_team_goals',\n",
    "              'away_team_goals',\n",
    "              'team',\n",
    "              'player_1',\n",
    "              'event',\n",
    "              'x_coord_1',\n",
    "              'y_coord_1',\n",
    "              'detail_1',\n",
    "              'detail_2',\n",
    "              'detail_3',\n",
    "              'detail_4',\n",
    "              'player_2',\n",
    "              'x_coord_2',\n",
    "              'y_coord_2'\n",
    "             ]"
   ]
  },
  {
   "cell_type": "markdown",
   "id": "simplified-validation",
   "metadata": {},
   "source": [
    "### View counts of each type of event"
   ]
  },
  {
   "cell_type": "code",
   "execution_count": 6,
   "id": "killing-myanmar",
   "metadata": {},
   "outputs": [
    {
     "data": {
      "text/plain": [
       "Play               23778\n",
       "Puck Recovery      20667\n",
       "Incomplete Play     8890\n",
       "Zone Entry          6362\n",
       "Dump In/Out         4888\n",
       "Shot                4887\n",
       "Takeaway            3248\n",
       "Faceoff Win         2441\n",
       "Penalty Taken        419\n",
       "Goal                 293\n",
       "Name: event, dtype: int64"
      ]
     },
     "execution_count": 6,
     "metadata": {},
     "output_type": "execute_result"
    }
   ],
   "source": [
    "df['event'].value_counts()"
   ]
  },
  {
   "cell_type": "markdown",
   "id": "ranking-latino",
   "metadata": {},
   "source": [
    "### Create a dataframe containing only shots"
   ]
  },
  {
   "cell_type": "code",
   "execution_count": 7,
   "id": "sudden-peoples",
   "metadata": {},
   "outputs": [
    {
     "data": {
      "text/html": [
       "<div>\n",
       "<style scoped>\n",
       "    .dataframe tbody tr th:only-of-type {\n",
       "        vertical-align: middle;\n",
       "    }\n",
       "\n",
       "    .dataframe tbody tr th {\n",
       "        vertical-align: top;\n",
       "    }\n",
       "\n",
       "    .dataframe thead th {\n",
       "        text-align: right;\n",
       "    }\n",
       "</style>\n",
       "<table border=\"1\" class=\"dataframe\">\n",
       "  <thead>\n",
       "    <tr style=\"text-align: right;\">\n",
       "      <th></th>\n",
       "      <th>game_date</th>\n",
       "      <th>home_team</th>\n",
       "      <th>away_team</th>\n",
       "      <th>period</th>\n",
       "      <th>clock</th>\n",
       "      <th>home_team_skaters</th>\n",
       "      <th>away_team_skaters</th>\n",
       "      <th>home_team_goals</th>\n",
       "      <th>away_team_goals</th>\n",
       "      <th>team</th>\n",
       "      <th>...</th>\n",
       "      <th>event</th>\n",
       "      <th>x_coord_1</th>\n",
       "      <th>y_coord_1</th>\n",
       "      <th>detail_1</th>\n",
       "      <th>detail_2</th>\n",
       "      <th>detail_3</th>\n",
       "      <th>detail_4</th>\n",
       "      <th>player_2</th>\n",
       "      <th>x_coord_2</th>\n",
       "      <th>y_coord_2</th>\n",
       "    </tr>\n",
       "  </thead>\n",
       "  <tbody>\n",
       "    <tr>\n",
       "      <th>16</th>\n",
       "      <td>2019-09-20</td>\n",
       "      <td>Erie Otters</td>\n",
       "      <td>Sudbury Wolves</td>\n",
       "      <td>1</td>\n",
       "      <td>19:26</td>\n",
       "      <td>5</td>\n",
       "      <td>5</td>\n",
       "      <td>0</td>\n",
       "      <td>0</td>\n",
       "      <td>Sudbury Wolves</td>\n",
       "      <td>...</td>\n",
       "      <td>Shot</td>\n",
       "      <td>177</td>\n",
       "      <td>57</td>\n",
       "      <td>Snapshot</td>\n",
       "      <td>On Net</td>\n",
       "      <td>f</td>\n",
       "      <td>f</td>\n",
       "      <td>NaN</td>\n",
       "      <td>NaN</td>\n",
       "      <td>NaN</td>\n",
       "    </tr>\n",
       "    <tr>\n",
       "      <th>19</th>\n",
       "      <td>2019-09-20</td>\n",
       "      <td>Erie Otters</td>\n",
       "      <td>Sudbury Wolves</td>\n",
       "      <td>1</td>\n",
       "      <td>19:21</td>\n",
       "      <td>5</td>\n",
       "      <td>5</td>\n",
       "      <td>0</td>\n",
       "      <td>0</td>\n",
       "      <td>Sudbury Wolves</td>\n",
       "      <td>...</td>\n",
       "      <td>Shot</td>\n",
       "      <td>134</td>\n",
       "      <td>70</td>\n",
       "      <td>Wristshot</td>\n",
       "      <td>Missed</td>\n",
       "      <td>f</td>\n",
       "      <td>f</td>\n",
       "      <td>NaN</td>\n",
       "      <td>NaN</td>\n",
       "      <td>NaN</td>\n",
       "    </tr>\n",
       "    <tr>\n",
       "      <th>20</th>\n",
       "      <td>2019-09-20</td>\n",
       "      <td>Erie Otters</td>\n",
       "      <td>Sudbury Wolves</td>\n",
       "      <td>1</td>\n",
       "      <td>19:21</td>\n",
       "      <td>5</td>\n",
       "      <td>5</td>\n",
       "      <td>0</td>\n",
       "      <td>0</td>\n",
       "      <td>Sudbury Wolves</td>\n",
       "      <td>...</td>\n",
       "      <td>Shot</td>\n",
       "      <td>165</td>\n",
       "      <td>56</td>\n",
       "      <td>Deflection</td>\n",
       "      <td>Missed</td>\n",
       "      <td>f</td>\n",
       "      <td>f</td>\n",
       "      <td>NaN</td>\n",
       "      <td>NaN</td>\n",
       "      <td>NaN</td>\n",
       "    </tr>\n",
       "    <tr>\n",
       "      <th>34</th>\n",
       "      <td>2019-09-20</td>\n",
       "      <td>Erie Otters</td>\n",
       "      <td>Sudbury Wolves</td>\n",
       "      <td>1</td>\n",
       "      <td>19:01</td>\n",
       "      <td>5</td>\n",
       "      <td>5</td>\n",
       "      <td>0</td>\n",
       "      <td>0</td>\n",
       "      <td>Erie Otters</td>\n",
       "      <td>...</td>\n",
       "      <td>Shot</td>\n",
       "      <td>172</td>\n",
       "      <td>71</td>\n",
       "      <td>Wristshot</td>\n",
       "      <td>On Net</td>\n",
       "      <td>f</td>\n",
       "      <td>f</td>\n",
       "      <td>NaN</td>\n",
       "      <td>NaN</td>\n",
       "      <td>NaN</td>\n",
       "    </tr>\n",
       "    <tr>\n",
       "      <th>87</th>\n",
       "      <td>2019-09-20</td>\n",
       "      <td>Erie Otters</td>\n",
       "      <td>Sudbury Wolves</td>\n",
       "      <td>1</td>\n",
       "      <td>17:17</td>\n",
       "      <td>5</td>\n",
       "      <td>5</td>\n",
       "      <td>0</td>\n",
       "      <td>0</td>\n",
       "      <td>Erie Otters</td>\n",
       "      <td>...</td>\n",
       "      <td>Shot</td>\n",
       "      <td>131</td>\n",
       "      <td>6</td>\n",
       "      <td>Snapshot</td>\n",
       "      <td>Missed</td>\n",
       "      <td>t</td>\n",
       "      <td>f</td>\n",
       "      <td>NaN</td>\n",
       "      <td>NaN</td>\n",
       "      <td>NaN</td>\n",
       "    </tr>\n",
       "  </tbody>\n",
       "</table>\n",
       "<p>5 rows × 21 columns</p>\n",
       "</div>"
      ],
      "text/plain": [
       "     game_date    home_team       away_team  period  clock  home_team_skaters  \\\n",
       "16  2019-09-20  Erie Otters  Sudbury Wolves       1  19:26                  5   \n",
       "19  2019-09-20  Erie Otters  Sudbury Wolves       1  19:21                  5   \n",
       "20  2019-09-20  Erie Otters  Sudbury Wolves       1  19:21                  5   \n",
       "34  2019-09-20  Erie Otters  Sudbury Wolves       1  19:01                  5   \n",
       "87  2019-09-20  Erie Otters  Sudbury Wolves       1  17:17                  5   \n",
       "\n",
       "    away_team_skaters  home_team_goals  away_team_goals            team  ...  \\\n",
       "16                  5                0                0  Sudbury Wolves  ...   \n",
       "19                  5                0                0  Sudbury Wolves  ...   \n",
       "20                  5                0                0  Sudbury Wolves  ...   \n",
       "34                  5                0                0     Erie Otters  ...   \n",
       "87                  5                0                0     Erie Otters  ...   \n",
       "\n",
       "   event x_coord_1  y_coord_1    detail_1 detail_2 detail_3 detail_4 player_2  \\\n",
       "16  Shot       177         57    Snapshot   On Net        f        f      NaN   \n",
       "19  Shot       134         70   Wristshot   Missed        f        f      NaN   \n",
       "20  Shot       165         56  Deflection   Missed        f        f      NaN   \n",
       "34  Shot       172         71   Wristshot   On Net        f        f      NaN   \n",
       "87  Shot       131          6    Snapshot   Missed        t        f      NaN   \n",
       "\n",
       "   x_coord_2  y_coord_2  \n",
       "16       NaN        NaN  \n",
       "19       NaN        NaN  \n",
       "20       NaN        NaN  \n",
       "34       NaN        NaN  \n",
       "87       NaN        NaN  \n",
       "\n",
       "[5 rows x 21 columns]"
      ]
     },
     "execution_count": 7,
     "metadata": {},
     "output_type": "execute_result"
    }
   ],
   "source": [
    "df_shots = df[df['event']=='Shot'].copy()\n",
    "df_shots.head()"
   ]
  },
  {
   "cell_type": "code",
   "execution_count": 8,
   "id": "human-housing",
   "metadata": {},
   "outputs": [
    {
     "name": "stdout",
     "output_type": "stream",
     "text": [
      "Types of shots stored in detail_1:\n",
      "Wristshot      2481\n",
      "Snapshot       1509\n",
      "Slapshot        431\n",
      "Deflection      246\n",
      "Fan             184\n",
      "Wrap Around      36\n",
      "Name: detail_1, dtype: int64\n",
      "\n",
      "Delivery of shot stored in detail_2:\n",
      "On Net     2269\n",
      "Missed     1405\n",
      "Blocked    1213\n",
      "Name: detail_2, dtype: int64\n"
     ]
    }
   ],
   "source": [
    "print('Types of shots stored in detail_1:')\n",
    "print(df_shots['detail_1'].value_counts())\n",
    "\n",
    "print('\\nDelivery of shot stored in detail_2:')\n",
    "print(df_shots['detail_2'].value_counts())"
   ]
  },
  {
   "cell_type": "code",
   "execution_count": 9,
   "id": "turned-steel",
   "metadata": {},
   "outputs": [
    {
     "data": {
      "text/plain": [
       "<AxesSubplot:xlabel='x_coord_1', ylabel='y_coord_1'>"
      ]
     },
     "execution_count": 9,
     "metadata": {},
     "output_type": "execute_result"
    },
    {
     "data": {
      "image/png": "[encoded data removed]",
      "text/plain": [
       "<Figure size 432x288 with 1 Axes>"
      ]
     },
     "metadata": {
      "needs_background": "light"
     },
     "output_type": "display_data"
    }
   ],
   "source": [
    "# plot all shots\n",
    "df_shots[df_shots['detail_1']=='Wristshot'].plot.scatter(x='x_coord_1', y='y_coord_1')"
   ]
  },
  {
   "cell_type": "code",
   "execution_count": 10,
   "id": "union-parking",
   "metadata": {},
   "outputs": [
    {
     "data": {
      "text/plain": [
       "<AxesSubplot:xlabel='x_coord_1', ylabel='y_coord_1'>"
      ]
     },
     "execution_count": 10,
     "metadata": {},
     "output_type": "execute_result"
    },
    {
     "data": {
      "image/png": "[encoded data removed]",
      "text/plain": [
       "<Figure size 432x288 with 1 Axes>"
      ]
     },
     "metadata": {
      "needs_background": "light"
     },
     "output_type": "display_data"
    }
   ],
   "source": [
    "df[df['event']=='Goal'].plot.scatter(x='x_coord_1', y='y_coord_1')"
   ]
  },
  {
   "cell_type": "markdown",
   "id": "alert-hours",
   "metadata": {},
   "source": [
    "### Save to pickle file"
   ]
  },
  {
   "cell_type": "code",
   "execution_count": 16,
   "id": "touched-pound",
   "metadata": {},
   "outputs": [
    {
     "name": "stdout",
     "output_type": "stream",
     "text": [
      "/Users/williamshaw/Projects/NHL/Big-Data-Cup-2021/data/df_all_events.pkl\n"
     ]
    }
   ],
   "source": [
    "path = os.path.abspath(os.path.join(os.getcwd(), '..'))\n",
    "path = os.path.abspath(os.path.join(path, 'data/df_all_events.pkl'))\n",
    "print(path)\n",
    "\n",
    "df.to_pickle(path)"
   ]
  },
  {
   "cell_type": "code",
   "execution_count": null,
   "id": "protective-alabama",
   "metadata": {},
   "outputs": [],
   "source": []
  }
 ],
 "metadata": {
  "kernelspec": {
   "display_name": "Python 3",
   "language": "python",
   "name": "python3"
  },
  "language_info": {
   "codemirror_mode": {
    "name": "ipython",
    "version": 3
   },
   "file_extension": ".py",
   "mimetype": "text/x-python",
   "name": "python",
   "nbconvert_exporter": "python",
   "pygments_lexer": "ipython3",
   "version": "3.8.1"
  }
 },
 "nbformat": 4,
 "nbformat_minor": 5
}
