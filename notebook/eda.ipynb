{
 "cells": [
  {
   "cell_type": "markdown",
   "id": "saving-straight",
   "metadata": {},
   "source": [
    "# Defensemen Model\n",
    "Let's calculate a few not-so-obvious attributes from our player data and see if these attributes correlate to professional levels"
   ]
  },
  {
   "cell_type": "code",
   "execution_count": 3,
   "id": "extended-maldives",
   "metadata": {},
   "outputs": [],
   "source": [
    "import os\n",
    "import pandas as pd\n",
    "import numpy as np"
   ]
  },
  {
   "cell_type": "code",
   "execution_count": 7,
   "id": "accessory-habitat",
   "metadata": {},
   "outputs": [
    {
     "name": "stdout",
     "output_type": "stream",
     "text": [
      "/Users/williamshaw/Projects/NHL/Big-Data-Cup-2021/data/df_all_events.pkl\n"
     ]
    },
    {
     "data": {
      "text/html": [
       "<div>\n",
       "<style scoped>\n",
       "    .dataframe tbody tr th:only-of-type {\n",
       "        vertical-align: middle;\n",
       "    }\n",
       "\n",
       "    .dataframe tbody tr th {\n",
       "        vertical-align: top;\n",
       "    }\n",
       "\n",
       "    .dataframe thead th {\n",
       "        text-align: right;\n",
       "    }\n",
       "</style>\n",
       "<table border=\"1\" class=\"dataframe\">\n",
       "  <thead>\n",
       "    <tr style=\"text-align: right;\">\n",
       "      <th></th>\n",
       "      <th>game_date</th>\n",
       "      <th>home_team</th>\n",
       "      <th>away_team</th>\n",
       "      <th>period</th>\n",
       "      <th>clock</th>\n",
       "      <th>home_team_skaters</th>\n",
       "      <th>away_team_skaters</th>\n",
       "      <th>home_team_goals</th>\n",
       "      <th>away_team_goals</th>\n",
       "      <th>team</th>\n",
       "      <th>...</th>\n",
       "      <th>event</th>\n",
       "      <th>x_coord_1</th>\n",
       "      <th>y_coord_1</th>\n",
       "      <th>detail_1</th>\n",
       "      <th>detail_2</th>\n",
       "      <th>detail_3</th>\n",
       "      <th>detail_4</th>\n",
       "      <th>player_2</th>\n",
       "      <th>x_coord_2</th>\n",
       "      <th>y_coord_2</th>\n",
       "    </tr>\n",
       "  </thead>\n",
       "  <tbody>\n",
       "    <tr>\n",
       "      <th>0</th>\n",
       "      <td>2019-09-20</td>\n",
       "      <td>Erie Otters</td>\n",
       "      <td>Sudbury Wolves</td>\n",
       "      <td>1</td>\n",
       "      <td>20:00</td>\n",
       "      <td>5</td>\n",
       "      <td>5</td>\n",
       "      <td>0</td>\n",
       "      <td>0</td>\n",
       "      <td>Sudbury Wolves</td>\n",
       "      <td>...</td>\n",
       "      <td>Faceoff Win</td>\n",
       "      <td>100</td>\n",
       "      <td>43</td>\n",
       "      <td>Forehand</td>\n",
       "      <td>NaN</td>\n",
       "      <td>NaN</td>\n",
       "      <td>NaN</td>\n",
       "      <td>Connor Lockhart</td>\n",
       "      <td>NaN</td>\n",
       "      <td>NaN</td>\n",
       "    </tr>\n",
       "    <tr>\n",
       "      <th>1</th>\n",
       "      <td>2019-09-20</td>\n",
       "      <td>Erie Otters</td>\n",
       "      <td>Sudbury Wolves</td>\n",
       "      <td>1</td>\n",
       "      <td>19:58</td>\n",
       "      <td>5</td>\n",
       "      <td>5</td>\n",
       "      <td>0</td>\n",
       "      <td>0</td>\n",
       "      <td>Sudbury Wolves</td>\n",
       "      <td>...</td>\n",
       "      <td>Puck Recovery</td>\n",
       "      <td>67</td>\n",
       "      <td>77</td>\n",
       "      <td>NaN</td>\n",
       "      <td>NaN</td>\n",
       "      <td>NaN</td>\n",
       "      <td>NaN</td>\n",
       "      <td>NaN</td>\n",
       "      <td>NaN</td>\n",
       "      <td>NaN</td>\n",
       "    </tr>\n",
       "    <tr>\n",
       "      <th>2</th>\n",
       "      <td>2019-09-20</td>\n",
       "      <td>Erie Otters</td>\n",
       "      <td>Sudbury Wolves</td>\n",
       "      <td>1</td>\n",
       "      <td>19:53</td>\n",
       "      <td>5</td>\n",
       "      <td>5</td>\n",
       "      <td>0</td>\n",
       "      <td>0</td>\n",
       "      <td>Sudbury Wolves</td>\n",
       "      <td>...</td>\n",
       "      <td>Incomplete Play</td>\n",
       "      <td>45</td>\n",
       "      <td>49</td>\n",
       "      <td>Direct</td>\n",
       "      <td>NaN</td>\n",
       "      <td>NaN</td>\n",
       "      <td>NaN</td>\n",
       "      <td>Blake Murray</td>\n",
       "      <td>74.0</td>\n",
       "      <td>35.0</td>\n",
       "    </tr>\n",
       "    <tr>\n",
       "      <th>3</th>\n",
       "      <td>2019-09-20</td>\n",
       "      <td>Erie Otters</td>\n",
       "      <td>Sudbury Wolves</td>\n",
       "      <td>1</td>\n",
       "      <td>19:52</td>\n",
       "      <td>5</td>\n",
       "      <td>5</td>\n",
       "      <td>0</td>\n",
       "      <td>0</td>\n",
       "      <td>Erie Otters</td>\n",
       "      <td>...</td>\n",
       "      <td>Puck Recovery</td>\n",
       "      <td>89</td>\n",
       "      <td>36</td>\n",
       "      <td>NaN</td>\n",
       "      <td>NaN</td>\n",
       "      <td>NaN</td>\n",
       "      <td>NaN</td>\n",
       "      <td>NaN</td>\n",
       "      <td>NaN</td>\n",
       "      <td>NaN</td>\n",
       "    </tr>\n",
       "    <tr>\n",
       "      <th>4</th>\n",
       "      <td>2019-09-20</td>\n",
       "      <td>Erie Otters</td>\n",
       "      <td>Sudbury Wolves</td>\n",
       "      <td>1</td>\n",
       "      <td>19:51</td>\n",
       "      <td>5</td>\n",
       "      <td>5</td>\n",
       "      <td>0</td>\n",
       "      <td>0</td>\n",
       "      <td>Erie Otters</td>\n",
       "      <td>...</td>\n",
       "      <td>Incomplete Play</td>\n",
       "      <td>82</td>\n",
       "      <td>49</td>\n",
       "      <td>Direct</td>\n",
       "      <td>NaN</td>\n",
       "      <td>NaN</td>\n",
       "      <td>NaN</td>\n",
       "      <td>Connor Lockhart</td>\n",
       "      <td>94.0</td>\n",
       "      <td>46.0</td>\n",
       "    </tr>\n",
       "  </tbody>\n",
       "</table>\n",
       "<p>5 rows × 21 columns</p>\n",
       "</div>"
      ],
      "text/plain": [
       "    game_date    home_team       away_team  period  clock  home_team_skaters  \\\n",
       "0  2019-09-20  Erie Otters  Sudbury Wolves       1  20:00                  5   \n",
       "1  2019-09-20  Erie Otters  Sudbury Wolves       1  19:58                  5   \n",
       "2  2019-09-20  Erie Otters  Sudbury Wolves       1  19:53                  5   \n",
       "3  2019-09-20  Erie Otters  Sudbury Wolves       1  19:52                  5   \n",
       "4  2019-09-20  Erie Otters  Sudbury Wolves       1  19:51                  5   \n",
       "\n",
       "   away_team_skaters  home_team_goals  away_team_goals            team  ...  \\\n",
       "0                  5                0                0  Sudbury Wolves  ...   \n",
       "1                  5                0                0  Sudbury Wolves  ...   \n",
       "2                  5                0                0  Sudbury Wolves  ...   \n",
       "3                  5                0                0     Erie Otters  ...   \n",
       "4                  5                0                0     Erie Otters  ...   \n",
       "\n",
       "             event x_coord_1  y_coord_1  detail_1 detail_2 detail_3 detail_4  \\\n",
       "0      Faceoff Win       100         43  Forehand      NaN      NaN      NaN   \n",
       "1    Puck Recovery        67         77       NaN      NaN      NaN      NaN   \n",
       "2  Incomplete Play        45         49    Direct      NaN      NaN      NaN   \n",
       "3    Puck Recovery        89         36       NaN      NaN      NaN      NaN   \n",
       "4  Incomplete Play        82         49    Direct      NaN      NaN      NaN   \n",
       "\n",
       "          player_2 x_coord_2  y_coord_2  \n",
       "0  Connor Lockhart       NaN        NaN  \n",
       "1              NaN       NaN        NaN  \n",
       "2     Blake Murray      74.0       35.0  \n",
       "3              NaN       NaN        NaN  \n",
       "4  Connor Lockhart      94.0       46.0  \n",
       "\n",
       "[5 rows x 21 columns]"
      ]
     },
     "execution_count": 7,
     "metadata": {},
     "output_type": "execute_result"
    }
   ],
   "source": [
    "# Read in data set\n",
    "path = os.path.abspath(os.path.join(os.getcwd(), '..'))\n",
    "path = os.path.abspath(os.path.join(path, 'data/df_all_events.pkl'))\n",
    "print(path)\n",
    "\n",
    "df = pd.read_pickle(path)\n",
    "df.head()"
   ]
  },
  {
   "cell_type": "code",
   "execution_count": 32,
   "id": "thirty-excellence",
   "metadata": {},
   "outputs": [
    {
     "data": {
      "text/plain": [
       "Maxim Golod          3117\n",
       "Chad Yetman          2810\n",
       "Jamie Drysdale       2756\n",
       "Jack Duff            2584\n",
       "Kurtis Henry         2539\n",
       "                     ... \n",
       "Ryan Thompson           8\n",
       "Ranvir Gill-Shane       7\n",
       "Logan LeSage            7\n",
       "James Jodoin            6\n",
       "Joe Ranger              6\n",
       "Name: player_1, Length: 408, dtype: int64"
      ]
     },
     "execution_count": 32,
     "metadata": {},
     "output_type": "execute_result"
    }
   ],
   "source": [
    "df['player_1'].value_counts()"
   ]
  },
  {
   "cell_type": "markdown",
   "id": "interested-operation",
   "metadata": {},
   "source": [
    "### Clean Shots Percentage\n",
    "A quality of good offensive-defensemen is the ability to get shots to the net (i.e. shots do not get blocked or miss the net). Players who can get shots to the net allow offensive players more oppurtunities to score 'greasy' rebound goals. While sometimes defenseman are credited with an assist when rebound goals are scored, other times they are not and that is why this stat is important to track."
   ]
  },
  {
   "cell_type": "code",
   "execution_count": 25,
   "id": "controlled-growth",
   "metadata": {},
   "outputs": [
    {
     "name": "stdout",
     "output_type": "stream",
     "text": [
      "<class 'pandas.core.frame.DataFrame'>\n",
      "Int64Index: 5180 entries, 16 to 75565\n",
      "Data columns (total 21 columns):\n",
      " #   Column             Non-Null Count  Dtype  \n",
      "---  ------             --------------  -----  \n",
      " 0   game_date          5180 non-null   object \n",
      " 1   home_team          5180 non-null   object \n",
      " 2   away_team          5180 non-null   object \n",
      " 3   period             5180 non-null   int64  \n",
      " 4   clock              5180 non-null   object \n",
      " 5   home_team_skaters  5180 non-null   int64  \n",
      " 6   away_team_skaters  5180 non-null   int64  \n",
      " 7   home_team_goals    5180 non-null   int64  \n",
      " 8   away_team_goals    5180 non-null   int64  \n",
      " 9   team               5180 non-null   object \n",
      " 10  player_1           5180 non-null   object \n",
      " 11  event              5180 non-null   object \n",
      " 12  x_coord_1          5180 non-null   int64  \n",
      " 13  y_coord_1          5180 non-null   int64  \n",
      " 14  detail_1           5180 non-null   object \n",
      " 15  detail_2           5180 non-null   object \n",
      " 16  detail_3           5180 non-null   object \n",
      " 17  detail_4           5180 non-null   object \n",
      " 18  player_2           0 non-null      object \n",
      " 19  x_coord_2          0 non-null      float64\n",
      " 20  y_coord_2          0 non-null      float64\n",
      "dtypes: float64(2), int64(7), object(12)\n",
      "memory usage: 890.3+ KB\n"
     ]
    }
   ],
   "source": [
    "# filter events to only shots and goals\n",
    "df_shots = df[df['event']=='Shot']\n",
    "df_goals = df[df['event']=='Goal']\n",
    "df_sg = pd.concat([df_shots, df_goals])\n",
    "df_sg.info()"
   ]
  },
  {
   "cell_type": "code",
   "execution_count": 26,
   "id": "serious-dubai",
   "metadata": {},
   "outputs": [
    {
     "data": {
      "text/plain": [
       "<AxesSubplot:xlabel='x_coord_1', ylabel='y_coord_1'>"
      ]
     },
     "execution_count": 26,
     "metadata": {},
     "output_type": "execute_result"
    },
    {
     "data": {
      "image/png": "[encoded data removed]",
      "text/plain": [
       "<Figure size 432x288 with 1 Axes>"
      ]
     },
     "metadata": {
      "needs_background": "light"
     },
     "output_type": "display_data"
    }
   ],
   "source": [
    "df_sg.plot.scatter(x='x_coord_1', y='y_coord_1')"
   ]
  },
  {
   "cell_type": "code",
   "execution_count": null,
   "id": "neural-bookmark",
   "metadata": {},
   "outputs": [],
   "source": []
  }
 ],
 "metadata": {
  "kernelspec": {
   "display_name": "Python 3",
   "language": "python",
   "name": "python3"
  },
  "language_info": {
   "codemirror_mode": {
    "name": "ipython",
    "version": 3
   },
   "file_extension": ".py",
   "mimetype": "text/x-python",
   "name": "python",
   "nbconvert_exporter": "python",
   "pygments_lexer": "ipython3",
   "version": "3.8.1"
  }
 },
 "nbformat": 4,
 "nbformat_minor": 5
}
