{
 "cells": [
  {
   "cell_type": "markdown",
   "id": "twelve-water",
   "metadata": {},
   "source": [
    "# Measuring Circadian Effect on Team Stats\n",
    "The circadian rhythm is the body's natural process of regulating sleep. In sports, the effects of traveling across time zones on athletic performance is attributed to the circadian rhythm. The goal of this notebook is to evaluate if there is a significant effect of travel on the Erie Otters performance."
   ]
  },
  {
   "cell_type": "code",
   "execution_count": 1,
   "id": "bearing-paper",
   "metadata": {},
   "outputs": [],
   "source": [
    "import pandas as pd\n",
    "import numpy as np\n",
    "import pprint\n",
    "from scipy.stats import ttest_ind\n",
    "import matplotlib.pyplot as plt"
   ]
  },
  {
   "cell_type": "markdown",
   "id": "sexual-crime",
   "metadata": {},
   "source": [
    "## Data Wrangling\n",
    "We need to get stats for individual games of the Erie Otters. Also, the location (home/away) of games needs to be tracked."
   ]
  },
  {
   "cell_type": "code",
   "execution_count": 2,
   "id": "selective-cannon",
   "metadata": {},
   "outputs": [],
   "source": [
    "# Read in data set\n",
    "path = 'data/df_all_events.pkl'\n",
    "df = pd.read_pickle(path)"
   ]
  },
  {
   "cell_type": "code",
   "execution_count": 3,
   "id": "accompanied-spending",
   "metadata": {},
   "outputs": [],
   "source": [
    "# convert dataframe to iterable python dict\n",
    "events = df.to_dict(orient='records')"
   ]
  },
  {
   "cell_type": "code",
   "execution_count": 4,
   "id": "precise-ethiopia",
   "metadata": {},
   "outputs": [
    {
     "name": "stdout",
     "output_type": "stream",
     "text": [
      "num home games: 19\n",
      "num away games: 21\n"
     ]
    }
   ],
   "source": [
    "# count the number of events per game\n",
    "games = {}\n",
    "cur_date = ''\n",
    "# num_home_games = 0\n",
    "# num_away_games = 0\n",
    "game_dict = {\n",
    "    'home' : 0,\n",
    "    'dump_retained': 0,       # successful dump in attempt\n",
    "    'dump_lost': 0,           # unsuccessful dump in attempt\n",
    "    'faceoff_win': 0,         # face off won\n",
    "    'faceoff_lost': 0,        # face off lost\n",
    "    'goals': 0,               # goals\n",
    "    'shots_attempts': 0,      # total shots\n",
    "    'shots_on_net': 0,        # number of shots on goal\n",
    "    'shots_missed': 0,        # number of attempted shots that miss net\n",
    "    'shots_blocked': 0,       # number of attempted shots that are blocked\n",
    "    'zone_entry_carried': 0,  # puck carried into offensive zone\n",
    "    'zone_entry_dumped': 0,   # puck dumped into offesnive zone\n",
    "    'zone_entry_played': 0,   # puck played into offesnive zone via pass\n",
    "    'penalty_taken': 0,       # number of penalties taken\n",
    "    'play_indirect': 0,       # successful indirect passes (i.e. pass rimmed of boards)\n",
    "    'play_direct': 0,         # successful direct passes (i.e. tape to tape pass)\n",
    "    'inc_play_indirect': 0,   # unsuccessful indirect passes (i.e. pass rimmed of boards)\n",
    "    'inc_play_direct': 0,     # unsuccessful direct passes (i.e. tape to tape pass)\n",
    "    \n",
    "    'shots_on_net_against': 0,\n",
    "    'play_indirect_against': 0,       # successful indirect passes (i.e. pass rimmed of boards)\n",
    "    'play_direct_against': 0,         # successful direct passes (i.e. tape to tape pass)\n",
    "    'inc_play_indirect_against': 0,   # unsuccessful indirect passes (i.e. pass rimmed of boards)\n",
    "    'inc_play_direct_against': 0,     # unsuccessful direct passes (i.e. tape to tape pass)\n",
    "    \n",
    "}\n",
    "\n",
    "date_change = 0\n",
    "for e in events:\n",
    "    if e['game_date'] != cur_date:\n",
    "        date_change += 1\n",
    "        cur_date = e['game_date']\n",
    "        games[cur_date] = game_dict.copy()\n",
    "        if e['home_team'] == 'Erie Otters':  # figure out if this game is home or away\n",
    "            games[cur_date]['home'] = 1\n",
    "#         if e['home_team'] == 'Erie Otters': \n",
    "#             print('date changed to ' + cur_date + ' | Home game')\n",
    "#             num_home_games += 1\n",
    "#         else: \n",
    "#             print('date changed to ' + cur_date + ' |              Away game')\n",
    "#             num_away_games += 1\n",
    "        \n",
    "    # identify negative events...things like shots against, faceoffs lost\n",
    "    event_name = ''\n",
    "    if e['team'] != 'Erie Otters':\n",
    "        if e['event'] == 'Faceoff Win': event_name = 'faceoff_lost'\n",
    "        elif e['event'] == 'Shot' and e['detail_2'] == 'On Net': event_name = 'shots_on_net_against'\n",
    "        elif e['event'] == 'Play' and e['detail_1'] == 'Indirect': event_name = 'play_indirect_against'\n",
    "        elif e['event'] == 'Play' and e['detail_1'] == 'Direct': event_name = 'play_direct_against'\n",
    "        elif e['event'] == 'Incomplete Play' and e['detail_1'] == 'Indirect': event_name = 'inc_play_indirect_against'\n",
    "        elif e['event'] == 'Incomplete Play' and e['detail_1'] == 'Direct': event_name = 'inc_play_direct_against'\n",
    "        if len(event_name) > 0:\n",
    "            games[cur_date][event_name] += 1\n",
    "        continue\n",
    "    \n",
    "    # we only want to track Erie players\n",
    "    if e['team'] != 'Erie Otters':\n",
    "        continue\n",
    "    \n",
    "    # identify event that happend\n",
    "    if e['event'] == 'Dump In/Out' and e['detail_1'] == 'Lost': event_name = 'dump_lost'\n",
    "    elif e['event'] == 'Dump In/Out' and e['detail_1'] == 'Retained': event_name = 'dump_retained'\n",
    "    elif e['event'] == 'Faceoff Win': event_name = 'faceoff_win'\n",
    "    elif e['event'] == 'Goal': event_name = 'goals'   \n",
    "    elif e['event'] == 'Shot': \n",
    "        games[cur_date]['shots_attempts'] += 1\n",
    "        if e['detail_2'] == 'On Net': event_name = 'shots_on_net'\n",
    "        elif e['detail_2'] == 'Missed': event_name = 'shots_missed'\n",
    "        elif e['detail_2'] == 'Blocked': event_name = 'shots_blocked'\n",
    "    elif e['event'] == 'Zone Entry' and e['detail_1'] == 'Carried': event_name = 'zone_entry_carried'\n",
    "    elif e['event'] == 'Zone Entry' and e['detail_1'] == 'Dumped': event_name = 'zone_entry_dumped'\n",
    "    elif e['event'] == 'Zone Entry' and e['detail_1'] == 'Played': event_name = 'zone_entry_played'\n",
    "    elif e['event'] == 'Penalty Taken': event_name = 'penalty_taken'\n",
    "    elif e['event'] == 'Play' and e['detail_1'] == 'Indirect': event_name = 'play_indirect'\n",
    "    elif e['event'] == 'Play' and e['detail_1'] == 'Direct': event_name = 'play_direct'\n",
    "    elif e['event'] == 'Incomplete Play' and e['detail_1'] == 'Indirect': event_name = 'inc_play_indirect'\n",
    "    elif e['event'] == 'Incomplete Play' and e['detail_1'] == 'Direct': event_name = 'inc_play_direct'\n",
    "\n",
    "\n",
    "    # if identified an event we care about, increment that stat\n",
    "    if len(event_name) > 0:\n",
    "        games[cur_date][event_name] += 1\n",
    "        \n",
    "# print('\\ntotal games: ' + str(date_change))\n",
    "# print('total home games: ' + str(num_home_games))\n",
    "# print('total away games: ' + str(num_away_games))\n",
    "\n",
    "# count number of home/away games\n",
    "count = 0\n",
    "count_away = 0\n",
    "for date, value in games.items():\n",
    "    if value['home'] == 1: count +=1\n",
    "    else: count_away += 1\n",
    "print('num home games: ' + str(count))\n",
    "print('num away games: ' + str(count_away))"
   ]
  },
  {
   "cell_type": "code",
   "execution_count": 5,
   "id": "universal-bandwidth",
   "metadata": {},
   "outputs": [
    {
     "name": "stdout",
     "output_type": "stream",
     "text": [
      "{'dump_lost': 25,\n",
      " 'dump_retained': 8,\n",
      " 'faceoff_lost': 33,\n",
      " 'faceoff_win': 26,\n",
      " 'goals': 5,\n",
      " 'home': 1,\n",
      " 'inc_play_direct': 92,\n",
      " 'inc_play_direct_against': 79,\n",
      " 'inc_play_indirect': 51,\n",
      " 'inc_play_indirect_against': 56,\n",
      " 'penalty_taken': 3,\n",
      " 'play_direct': 219,\n",
      " 'play_direct_against': 179,\n",
      " 'play_indirect': 120,\n",
      " 'play_indirect_against': 91,\n",
      " 'shots_attempts': 68,\n",
      " 'shots_blocked': 16,\n",
      " 'shots_missed': 19,\n",
      " 'shots_on_net': 33,\n",
      " 'shots_on_net_against': 25,\n",
      " 'zone_entry_carried': 51,\n",
      " 'zone_entry_dumped': 22,\n",
      " 'zone_entry_played': 10}\n"
     ]
    }
   ],
   "source": [
    "pprint.pprint(games['2019-09-20'])"
   ]
  },
  {
   "cell_type": "markdown",
   "id": "portable-advisory",
   "metadata": {},
   "source": [
    "## Data Analysis\n",
    "Using 2-sample t-tests, check for significant difference in sample means of home vs away stats"
   ]
  },
  {
   "cell_type": "code",
   "execution_count": 6,
   "id": "challenging-depth",
   "metadata": {},
   "outputs": [],
   "source": [
    "df_games = pd.DataFrame.from_dict(games, orient='index')\n",
    "df_games['play_total'] = df_games['play_direct'] + df_games['play_indirect']\n",
    "df_games['inc_play_total'] = df_games['inc_play_direct'] + df_games['inc_play_indirect']\n",
    "df_games['play_attempts'] = df_games['play_total'] + df_games['inc_play_total']\n",
    "\n",
    "df_games['play_against_total'] = df_games['play_direct_against'] + df_games['play_indirect_against']\n",
    "df_games['inc_play_against_total'] = df_games['inc_play_direct_against'] + df_games['inc_play_indirect_against']\n",
    "df_games['play_attempts_against'] = df_games['play_against_total'] + df_games['inc_play_against_total']\n",
    "\n",
    "df_home = df_games[df_games['home']==1]\n",
    "df_away = df_games[df_games['home']==0]"
   ]
  },
  {
   "cell_type": "code",
   "execution_count": 7,
   "id": "inner-allergy",
   "metadata": {},
   "outputs": [
    {
     "data": {
      "text/html": [
       "<div>\n",
       "<style scoped>\n",
       "    .dataframe tbody tr th:only-of-type {\n",
       "        vertical-align: middle;\n",
       "    }\n",
       "\n",
       "    .dataframe tbody tr th {\n",
       "        vertical-align: top;\n",
       "    }\n",
       "\n",
       "    .dataframe thead th {\n",
       "        text-align: right;\n",
       "    }\n",
       "</style>\n",
       "<table border=\"1\" class=\"dataframe\">\n",
       "  <thead>\n",
       "    <tr style=\"text-align: right;\">\n",
       "      <th></th>\n",
       "      <th>home</th>\n",
       "      <th>dump_retained</th>\n",
       "      <th>dump_lost</th>\n",
       "      <th>faceoff_win</th>\n",
       "      <th>faceoff_lost</th>\n",
       "      <th>goals</th>\n",
       "      <th>shots_attempts</th>\n",
       "      <th>shots_on_net</th>\n",
       "      <th>shots_missed</th>\n",
       "      <th>shots_blocked</th>\n",
       "      <th>...</th>\n",
       "      <th>play_indirect_against</th>\n",
       "      <th>play_direct_against</th>\n",
       "      <th>inc_play_indirect_against</th>\n",
       "      <th>inc_play_direct_against</th>\n",
       "      <th>play_total</th>\n",
       "      <th>inc_play_total</th>\n",
       "      <th>play_attempts</th>\n",
       "      <th>play_against_total</th>\n",
       "      <th>inc_play_against_total</th>\n",
       "      <th>play_attempts_against</th>\n",
       "    </tr>\n",
       "  </thead>\n",
       "  <tbody>\n",
       "    <tr>\n",
       "      <th>2019-09-20</th>\n",
       "      <td>1</td>\n",
       "      <td>8</td>\n",
       "      <td>25</td>\n",
       "      <td>26</td>\n",
       "      <td>33</td>\n",
       "      <td>5</td>\n",
       "      <td>68</td>\n",
       "      <td>33</td>\n",
       "      <td>19</td>\n",
       "      <td>16</td>\n",
       "      <td>...</td>\n",
       "      <td>91</td>\n",
       "      <td>179</td>\n",
       "      <td>56</td>\n",
       "      <td>79</td>\n",
       "      <td>339</td>\n",
       "      <td>143</td>\n",
       "      <td>482</td>\n",
       "      <td>270</td>\n",
       "      <td>135</td>\n",
       "      <td>405</td>\n",
       "    </tr>\n",
       "    <tr>\n",
       "      <th>2019-09-21</th>\n",
       "      <td>0</td>\n",
       "      <td>4</td>\n",
       "      <td>44</td>\n",
       "      <td>32</td>\n",
       "      <td>27</td>\n",
       "      <td>8</td>\n",
       "      <td>67</td>\n",
       "      <td>25</td>\n",
       "      <td>25</td>\n",
       "      <td>17</td>\n",
       "      <td>...</td>\n",
       "      <td>73</td>\n",
       "      <td>168</td>\n",
       "      <td>36</td>\n",
       "      <td>66</td>\n",
       "      <td>362</td>\n",
       "      <td>113</td>\n",
       "      <td>475</td>\n",
       "      <td>241</td>\n",
       "      <td>102</td>\n",
       "      <td>343</td>\n",
       "    </tr>\n",
       "    <tr>\n",
       "      <th>2019-09-26</th>\n",
       "      <td>0</td>\n",
       "      <td>5</td>\n",
       "      <td>41</td>\n",
       "      <td>23</td>\n",
       "      <td>30</td>\n",
       "      <td>1</td>\n",
       "      <td>44</td>\n",
       "      <td>18</td>\n",
       "      <td>12</td>\n",
       "      <td>14</td>\n",
       "      <td>...</td>\n",
       "      <td>98</td>\n",
       "      <td>218</td>\n",
       "      <td>34</td>\n",
       "      <td>85</td>\n",
       "      <td>264</td>\n",
       "      <td>145</td>\n",
       "      <td>409</td>\n",
       "      <td>316</td>\n",
       "      <td>119</td>\n",
       "      <td>435</td>\n",
       "    </tr>\n",
       "    <tr>\n",
       "      <th>2019-10-04</th>\n",
       "      <td>1</td>\n",
       "      <td>14</td>\n",
       "      <td>62</td>\n",
       "      <td>31</td>\n",
       "      <td>27</td>\n",
       "      <td>2</td>\n",
       "      <td>71</td>\n",
       "      <td>25</td>\n",
       "      <td>32</td>\n",
       "      <td>14</td>\n",
       "      <td>...</td>\n",
       "      <td>70</td>\n",
       "      <td>257</td>\n",
       "      <td>35</td>\n",
       "      <td>84</td>\n",
       "      <td>316</td>\n",
       "      <td>86</td>\n",
       "      <td>402</td>\n",
       "      <td>327</td>\n",
       "      <td>119</td>\n",
       "      <td>446</td>\n",
       "    </tr>\n",
       "    <tr>\n",
       "      <th>2019-10-11</th>\n",
       "      <td>1</td>\n",
       "      <td>14</td>\n",
       "      <td>56</td>\n",
       "      <td>39</td>\n",
       "      <td>25</td>\n",
       "      <td>1</td>\n",
       "      <td>87</td>\n",
       "      <td>37</td>\n",
       "      <td>34</td>\n",
       "      <td>16</td>\n",
       "      <td>...</td>\n",
       "      <td>75</td>\n",
       "      <td>175</td>\n",
       "      <td>35</td>\n",
       "      <td>75</td>\n",
       "      <td>340</td>\n",
       "      <td>116</td>\n",
       "      <td>456</td>\n",
       "      <td>250</td>\n",
       "      <td>110</td>\n",
       "      <td>360</td>\n",
       "    </tr>\n",
       "  </tbody>\n",
       "</table>\n",
       "<p>5 rows × 29 columns</p>\n",
       "</div>"
      ],
      "text/plain": [
       "            home  dump_retained  dump_lost  faceoff_win  faceoff_lost  goals  \\\n",
       "2019-09-20     1              8         25           26            33      5   \n",
       "2019-09-21     0              4         44           32            27      8   \n",
       "2019-09-26     0              5         41           23            30      1   \n",
       "2019-10-04     1             14         62           31            27      2   \n",
       "2019-10-11     1             14         56           39            25      1   \n",
       "\n",
       "            shots_attempts  shots_on_net  shots_missed  shots_blocked  ...  \\\n",
       "2019-09-20              68            33            19             16  ...   \n",
       "2019-09-21              67            25            25             17  ...   \n",
       "2019-09-26              44            18            12             14  ...   \n",
       "2019-10-04              71            25            32             14  ...   \n",
       "2019-10-11              87            37            34             16  ...   \n",
       "\n",
       "            play_indirect_against  play_direct_against  \\\n",
       "2019-09-20                     91                  179   \n",
       "2019-09-21                     73                  168   \n",
       "2019-09-26                     98                  218   \n",
       "2019-10-04                     70                  257   \n",
       "2019-10-11                     75                  175   \n",
       "\n",
       "            inc_play_indirect_against  inc_play_direct_against  play_total  \\\n",
       "2019-09-20                         56                       79         339   \n",
       "2019-09-21                         36                       66         362   \n",
       "2019-09-26                         34                       85         264   \n",
       "2019-10-04                         35                       84         316   \n",
       "2019-10-11                         35                       75         340   \n",
       "\n",
       "            inc_play_total  play_attempts  play_against_total  \\\n",
       "2019-09-20             143            482                 270   \n",
       "2019-09-21             113            475                 241   \n",
       "2019-09-26             145            409                 316   \n",
       "2019-10-04              86            402                 327   \n",
       "2019-10-11             116            456                 250   \n",
       "\n",
       "            inc_play_against_total  play_attempts_against  \n",
       "2019-09-20                     135                    405  \n",
       "2019-09-21                     102                    343  \n",
       "2019-09-26                     119                    435  \n",
       "2019-10-04                     119                    446  \n",
       "2019-10-11                     110                    360  \n",
       "\n",
       "[5 rows x 29 columns]"
      ]
     },
     "execution_count": 7,
     "metadata": {},
     "output_type": "execute_result"
    }
   ],
   "source": [
    "df_games.head()"
   ]
  },
  {
   "cell_type": "markdown",
   "id": "analyzed-compatibility",
   "metadata": {},
   "source": [
    "##### T-Tests\n",
    "Compute 2-sample t-tests for all tracked metrics for home vs away games"
   ]
  },
  {
   "cell_type": "code",
   "execution_count": 8,
   "id": "according-necessity",
   "metadata": {},
   "outputs": [
    {
     "name": "stdout",
     "output_type": "stream",
     "text": [
      "2-sample t-test for the total number of home for home and away games\n",
      "Ttest_indResult(statistic=inf, pvalue=0.0)\n",
      "    SIGNIFICANT\n",
      "\n",
      "2-sample t-test for the total number of dump_retained for home and away games\n",
      "Ttest_indResult(statistic=0.6829069153235562, pvalue=0.499349841953708)\n",
      "\n",
      "2-sample t-test for the total number of dump_lost for home and away games\n",
      "Ttest_indResult(statistic=-0.5122268329257181, pvalue=0.6116860812777889)\n",
      "\n",
      "2-sample t-test for the total number of faceoff_win for home and away games\n",
      "Ttest_indResult(statistic=2.0581894826208815, pvalue=0.04726973408074997)\n",
      "    SIGNIFICANT\n",
      "\n",
      "2-sample t-test for the total number of faceoff_lost for home and away games\n",
      "Ttest_indResult(statistic=-2.068958465796127, pvalue=0.04577071341613561)\n",
      "    SIGNIFICANT\n",
      "\n",
      "2-sample t-test for the total number of goals for home and away games\n",
      "Ttest_indResult(statistic=-0.7904158033168959, pvalue=0.4344380005671131)\n",
      "\n",
      "2-sample t-test for the total number of shots_attempts for home and away games\n",
      "Ttest_indResult(statistic=2.0053504834386264, pvalue=0.05235382569219809)\n",
      "\n",
      "2-sample t-test for the total number of shots_on_net for home and away games\n",
      "Ttest_indResult(statistic=2.1183561631041536, pvalue=0.04106054220306165)\n",
      "    SIGNIFICANT\n",
      "\n",
      "2-sample t-test for the total number of shots_missed for home and away games\n",
      "Ttest_indResult(statistic=1.495922714503897, pvalue=0.1444500342909463)\n",
      "\n",
      "2-sample t-test for the total number of shots_blocked for home and away games\n",
      "Ttest_indResult(statistic=0.9202732107088002, pvalue=0.363256795263607)\n",
      "\n",
      "2-sample t-test for the total number of zone_entry_carried for home and away games\n",
      "Ttest_indResult(statistic=1.7030513956662376, pvalue=0.09817816638200884)\n",
      "\n",
      "2-sample t-test for the total number of zone_entry_dumped for home and away games\n",
      "Ttest_indResult(statistic=1.6435444761146976, pvalue=0.10852447624233165)\n",
      "\n",
      "2-sample t-test for the total number of zone_entry_played for home and away games\n",
      "Ttest_indResult(statistic=1.6471102813051441, pvalue=0.10869276517660062)\n",
      "\n",
      "2-sample t-test for the total number of penalty_taken for home and away games\n",
      "Ttest_indResult(statistic=-1.465955517252392, pvalue=0.15167708479494532)\n",
      "\n",
      "2-sample t-test for the total number of play_indirect for home and away games\n",
      "Ttest_indResult(statistic=2.234614183038927, pvalue=0.03251445256796609)\n",
      "    SIGNIFICANT\n",
      "\n",
      "2-sample t-test for the total number of play_direct for home and away games\n",
      "Ttest_indResult(statistic=1.3554782216417172, pvalue=0.18402626823493198)\n",
      "\n",
      "2-sample t-test for the total number of inc_play_indirect for home and away games\n",
      "Ttest_indResult(statistic=0.5270867709189574, pvalue=0.6011972242621193)\n",
      "\n",
      "2-sample t-test for the total number of inc_play_direct for home and away games\n",
      "Ttest_indResult(statistic=1.6633029211302433, pvalue=0.1047665878404834)\n",
      "\n",
      "2-sample t-test for the total number of shots_on_net_against for home and away games\n",
      "Ttest_indResult(statistic=-1.0104318718318501, pvalue=0.31925471181921644)\n",
      "\n",
      "2-sample t-test for the total number of play_indirect_against for home and away games\n",
      "Ttest_indResult(statistic=0.7589282385095653, pvalue=0.45297909801450975)\n",
      "\n",
      "2-sample t-test for the total number of play_direct_against for home and away games\n",
      "Ttest_indResult(statistic=-0.6691772111339019, pvalue=0.5076039927321183)\n",
      "\n",
      "2-sample t-test for the total number of inc_play_indirect_against for home and away games\n",
      "Ttest_indResult(statistic=1.283552001477706, pvalue=0.2072964376936131)\n",
      "\n",
      "2-sample t-test for the total number of inc_play_direct_against for home and away games\n",
      "Ttest_indResult(statistic=1.0360404369225917, pvalue=0.30714226473029066)\n",
      "\n",
      "2-sample t-test for the total number of play_total for home and away games\n",
      "Ttest_indResult(statistic=1.9072868758721195, pvalue=0.06520247194397782)\n",
      "\n",
      "2-sample t-test for the total number of inc_play_total for home and away games\n",
      "Ttest_indResult(statistic=1.6722304998462998, pvalue=0.10309955392921931)\n",
      "\n",
      "2-sample t-test for the total number of play_attempts for home and away games\n",
      "Ttest_indResult(statistic=2.318215106589002, pvalue=0.02727461529386423)\n",
      "    SIGNIFICANT\n",
      "\n",
      "2-sample t-test for the total number of play_against_total for home and away games\n",
      "Ttest_indResult(statistic=-0.31995663157153714, pvalue=0.7508974645409976)\n",
      "\n",
      "2-sample t-test for the total number of inc_play_against_total for home and away games\n",
      "Ttest_indResult(statistic=1.7690993011471432, pvalue=0.08675976264990082)\n",
      "\n",
      "2-sample t-test for the total number of play_attempts_against for home and away games\n",
      "Ttest_indResult(statistic=0.169969401651982, pvalue=0.8660514081045781)\n",
      "\n",
      "Metrics that significantly differ for home and away games\n",
      "['home',\n",
      " 'faceoff_win',\n",
      " 'faceoff_lost',\n",
      " 'shots_on_net',\n",
      " 'play_indirect',\n",
      " 'play_attempts']\n"
     ]
    }
   ],
   "source": [
    "tmp = df_games.columns.values.tolist()\n",
    "sig_results = []\n",
    "t_results = []\n",
    "for c in tmp:\n",
    "    print('2-sample t-test for the total number of ' + c + ' for home and away games')\n",
    "    t_result = ttest_ind(df_home[c], df_away[c], equal_var=False)\n",
    "    print(t_result)\n",
    "    if t_result.pvalue < 0.05:\n",
    "        print('    SIGNIFICANT')\n",
    "        sig_results.append(c)\n",
    "        t_results.append(t_result)\n",
    "    print()\n",
    "    \n",
    "print('Metrics that significantly differ for home and away games')\n",
    "pprint.pprint(sig_results)"
   ]
  },
  {
   "cell_type": "code",
   "execution_count": 9,
   "id": "hairy-benefit",
   "metadata": {},
   "outputs": [],
   "source": [
    "# eliminte indicator variable for home games...this is not a quantitative variable we need to test for significance\n",
    "sig_results = sig_results[1:]\n",
    "t_results = t_results[1:]"
   ]
  },
  {
   "cell_type": "markdown",
   "id": "quantitative-beijing",
   "metadata": {},
   "source": [
    "### Data Visualization\n",
    "##### Box Plots\n",
    "For each metric that we found a significant difference in the means of home and away games, print a boxplot using matplotlib"
   ]
  },
  {
   "cell_type": "code",
   "execution_count": 10,
   "id": "ignored-usage",
   "metadata": {
    "scrolled": true
   },
   "outputs": [
    {
     "data": {
      "image/png": "[encoded data removed]",
      "text/plain": [
       "<Figure size 216x360 with 1 Axes>"
      ]
     },
     "metadata": {},
     "output_type": "display_data"
    },
    {
     "name": "stdout",
     "output_type": "stream",
     "text": [
      "Ttest_indResult(statistic=2.0581894826208815, pvalue=0.04726973408074997)\n"
     ]
    },
    {
     "data": {
      "image/png": "[encoded data removed]",
      "text/plain": [
       "<Figure size 216x360 with 1 Axes>"
      ]
     },
     "metadata": {},
     "output_type": "display_data"
    },
    {
     "name": "stdout",
     "output_type": "stream",
     "text": [
      "Ttest_indResult(statistic=-2.068958465796127, pvalue=0.04577071341613561)\n"
     ]
    },
    {
     "data": {
      "image/png": "[encoded data removed]",
      "text/plain": [
       "<Figure size 216x360 with 1 Axes>"
      ]
     },
     "metadata": {},
     "output_type": "display_data"
    },
    {
     "name": "stdout",
     "output_type": "stream",
     "text": [
      "Ttest_indResult(statistic=2.1183561631041536, pvalue=0.04106054220306165)\n"
     ]
    },
    {
     "data": {
      "image/png": "[encoded data removed]",
      "text/plain": [
       "<Figure size 216x360 with 1 Axes>"
      ]
     },
     "metadata": {},
     "output_type": "display_data"
    },
    {
     "name": "stdout",
     "output_type": "stream",
     "text": [
      "Ttest_indResult(statistic=2.234614183038927, pvalue=0.03251445256796609)\n"
     ]
    },
    {
     "data": {
      "image/png": "[encoded data removed]",
      "text/plain": [
       "<Figure size 216x360 with 1 Axes>"
      ]
     },
     "metadata": {},
     "output_type": "display_data"
    },
    {
     "name": "stdout",
     "output_type": "stream",
     "text": [
      "Ttest_indResult(statistic=2.318215106589002, pvalue=0.02727461529386423)\n"
     ]
    }
   ],
   "source": [
    "count = 0\n",
    "for c in sig_results:\n",
    "    fig = plt.figure(figsize=(3,5))\n",
    "    fig.patch.set_facecolor('whitesmoke')\n",
    "    fig.add_subplot(111).patch.set_facecolor('gainsboro')\n",
    "    data = [df_home[c], df_away[c]]\n",
    "    ax = plt.boxplot(data, \n",
    "                        widths=0.65, \n",
    "                        notch=True,\n",
    "                        boxprops=dict(color='navy'),\n",
    "                        medianprops=dict(color='navy'),\n",
    "                        patch_artist=True\n",
    "                    )\n",
    "    colors = ['gold', 'snow']\n",
    "    for patch, color in zip(ax['boxes'], colors):\n",
    "        patch.set_facecolor(color)\n",
    "    plt.title(c)\n",
    "    plt.xticks([1,2], ['Home', 'Away'])\n",
    "    plt.show()\n",
    "    fig.savefig(str('output/' + c + '_team'), dpi=fig.dpi)\n",
    "    print(t_results[count])\n",
    "    count += 1"
   ]
  },
  {
   "cell_type": "code",
   "execution_count": 11,
   "id": "small-cathedral",
   "metadata": {},
   "outputs": [
    {
     "name": "stdout",
     "output_type": "stream",
     "text": [
      "Home game means for significant metrics:\n",
      "faceoff_win       29.578947\n",
      "shots_on_net      32.315789\n",
      "play_indirect    100.210526\n",
      "play_attempts    435.000000\n",
      "dtype: float64\n",
      "\n",
      "Away game means for significant metrics:\n",
      "faceoff_win       25.761905\n",
      "shots_on_net      28.238095\n",
      "play_indirect     90.190476\n",
      "play_attempts    401.095238\n",
      "dtype: float64\n"
     ]
    }
   ],
   "source": [
    "print('Home game means for significant metrics:')\n",
    "print(df_home[['faceoff_win', 'shots_on_net', 'play_indirect', 'play_attempts']].mean())\n",
    "print()\n",
    "print('Away game means for significant metrics:')\n",
    "print(df_away[['faceoff_win', 'shots_on_net', 'play_indirect', 'play_attempts']].mean())"
   ]
  },
  {
   "cell_type": "code",
   "execution_count": 12,
   "id": "demographic-kitchen",
   "metadata": {},
   "outputs": [
    {
     "name": "stdout",
     "output_type": "stream",
     "text": [
      "Difference in sample means (home - away)\n",
      "faceoff_win       3.817043\n",
      "shots_on_net      4.077694\n",
      "play_indirect    10.020050\n",
      "play_attempts    33.904762\n",
      "dtype: float64\n"
     ]
    }
   ],
   "source": [
    "df_home_means = df_home[['faceoff_win', 'shots_on_net', 'play_indirect', 'play_attempts']].mean()\n",
    "df_away_means = df_away[['faceoff_win', 'shots_on_net', 'play_indirect', 'play_attempts']].mean()\n",
    "print('Difference in sample means (home - away)')\n",
    "print(df_home_means - df_away_means)"
   ]
  }
 ],
 "metadata": {
  "kernelspec": {
   "display_name": "Python 3",
   "language": "python",
   "name": "python3"
  },
  "language_info": {
   "codemirror_mode": {
    "name": "ipython",
    "version": 3
   },
   "file_extension": ".py",
   "mimetype": "text/x-python",
   "name": "python",
   "nbconvert_exporter": "python",
   "pygments_lexer": "ipython3",
   "version": "3.8.1"
  }
 },
 "nbformat": 4,
 "nbformat_minor": 5
}
