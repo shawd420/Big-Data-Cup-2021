{
 "cells": [
  {
   "cell_type": "markdown",
   "id": "seventh-employment",
   "metadata": {},
   "source": [
    "# Measuring Circadian Effect on Individual Player Stats\n",
    "The circadian rhythm is the body's natural process of regulating sleep. In sports, the effects of traveling across time zones on athletic performance is attributed to the circadian rhythm. The goal of this notebook is to evaluate if there is a significant effect of travel on individual player performance of Erie Otters' players."
   ]
  },
  {
   "cell_type": "code",
   "execution_count": 1,
   "id": "approximate-retreat",
   "metadata": {},
   "outputs": [],
   "source": [
    "import pandas as pd\n",
    "import numpy as np\n",
    "import pprint\n",
    "from scipy.stats import ttest_ind\n",
    "import matplotlib.pyplot as plt"
   ]
  },
  {
   "cell_type": "markdown",
   "id": "graduate-carolina",
   "metadata": {},
   "source": [
    "## Data Wrangling\n",
    "We need to get stats for individual games for each player on the Erie Otters. Also, the location (home/away) of games needs to be tracked."
   ]
  },
  {
   "cell_type": "code",
   "execution_count": 2,
   "id": "compatible-pillow",
   "metadata": {},
   "outputs": [],
   "source": [
    "# Read in data set\n",
    "path = 'data/df_all_events.pkl'\n",
    "df = pd.read_pickle(path)"
   ]
  },
  {
   "cell_type": "code",
   "execution_count": 3,
   "id": "fancy-nickel",
   "metadata": {},
   "outputs": [],
   "source": [
    "# convert dataframe to iterable python dict\n",
    "events = df.to_dict(orient='records')"
   ]
  },
  {
   "cell_type": "code",
   "execution_count": 4,
   "id": "flush-estimate",
   "metadata": {},
   "outputs": [
    {
     "name": "stdout",
     "output_type": "stream",
     "text": [
      "num home games for all players: 363\n",
      "num away games for all players: 395\n"
     ]
    }
   ],
   "source": [
    "# count the number of events per game for each player\n",
    "players = {}\n",
    "cur_date = ''\n",
    "game_dict = {\n",
    "    'home' : 0,\n",
    "    'dump_retained': 0,       # successful dump in attempt\n",
    "    'dump_lost': 0,           # unsuccessful dump in attempt\n",
    "    'faceoff_win': 0,         # face off won\n",
    "    'faceoff_lost': 0,        # face off lost\n",
    "    'goals': 0,               # goals\n",
    "    'shots_attempts': 0,      # total shots\n",
    "    'shots_on_net': 0,        # number of shots on goal\n",
    "    'shots_missed': 0,        # number of attempted shots that miss net\n",
    "    'shots_blocked': 0,       # number of attempted shots that are blocked\n",
    "    'zone_entry_carried': 0,  # puck carried into offensive zone\n",
    "    'zone_entry_dumped': 0,   # puck dumped into offesnive zone\n",
    "    'zone_entry_played': 0,   # puck played into offesnive zone via pass\n",
    "    'penalty_taken': 0,       # number of penalties taken\n",
    "    'play_indirect': 0,       # successful indirect passes (i.e. pass rimmed of boards)\n",
    "    'play_direct': 0,         # successful direct passes (i.e. tape to tape pass)\n",
    "    'inc_play_indirect': 0,   # unsuccessful indirect passes (i.e. pass rimmed of boards)\n",
    "    'inc_play_direct': 0,     # unsuccessful direct passes (i.e. tape to tape pass)\n",
    "}\n",
    "\n",
    "date_change = 0\n",
    "for e in events:\n",
    "    if e['game_date'] != cur_date:\n",
    "        date_change += 1\n",
    "        cur_date = e['game_date']\n",
    "        \n",
    "    # identify faceoffs lost\n",
    "    event_name = ''\n",
    "    if e['team'] != 'Erie Otters' and e['event'] == 'Faceoff Win':\n",
    "        player_name = e['player_2']\n",
    "        event_name = 'faceoff_lost'\n",
    "    elif e['team'] != 'Erie Otters':  # no other events where team name is not Erie need to be tracked\n",
    "        continue\n",
    "    else:\n",
    "        player_name = e['player_1']\n",
    "    \n",
    "    # identify event that happend\n",
    "    if e['event'] == 'Dump In/Out' and e['detail_1'] == 'Lost': event_name = 'dump_lost'\n",
    "    elif e['event'] == 'Dump In/Out' and e['detail_1'] == 'Retained': event_name = 'dump_retained'\n",
    "    elif e['event'] == 'Faceoff Win' and len(event_name) < 1: event_name = 'faceoff_win'\n",
    "    elif e['event'] == 'Goal': event_name = 'goals'   \n",
    "    elif e['event'] == 'Shot': \n",
    "        if e['detail_2'] == 'On Net': event_name = 'shots_on_net'\n",
    "        elif e['detail_2'] == 'Missed': event_name = 'shots_missed'\n",
    "        elif e['detail_2'] == 'Blocked': event_name = 'shots_blocked'\n",
    "    elif e['event'] == 'Zone Entry' and e['detail_1'] == 'Carried': event_name = 'zone_entry_carried'\n",
    "    elif e['event'] == 'Zone Entry' and e['detail_1'] == 'Dumped': event_name = 'zone_entry_dumped'\n",
    "    elif e['event'] == 'Zone Entry' and e['detail_1'] == 'Played': event_name = 'zone_entry_played'\n",
    "    elif e['event'] == 'Penalty Taken': event_name = 'penalty_taken'\n",
    "    elif e['event'] == 'Play' and e['detail_1'] == 'Indirect': event_name = 'play_indirect'\n",
    "    elif e['event'] == 'Play' and e['detail_1'] == 'Direct': event_name = 'play_direct'\n",
    "    elif e['event'] == 'Incomplete Play' and e['detail_1'] == 'Indirect': event_name = 'inc_play_indirect'\n",
    "    elif e['event'] == 'Incomplete Play' and e['detail_1'] == 'Direct': event_name = 'inc_play_direct'\n",
    "\n",
    "    # check if this player's name is in the players dict, if not, add them\n",
    "    if player_name not in players:\n",
    "        players[player_name] = {}\n",
    "        \n",
    "    # check if this game's date is in this player's stat dict, if not, copy a 'game_dict' to this player's dict\n",
    "    if cur_date not in players[player_name]:\n",
    "        players[player_name][cur_date] = game_dict.copy()\n",
    "        if e['home_team'] == 'Erie Otters':\n",
    "            players[player_name][cur_date]['home'] = 1\n",
    "    \n",
    "    # if identified an event we care about, increment that stat\n",
    "    if len(event_name) > 0:\n",
    "        players[player_name][cur_date][event_name] += 1\n",
    "\n",
    "# count number of home/away games\n",
    "count_home = 0\n",
    "count_away = 0\n",
    "for player, game_date in players.items():\n",
    "    for game, game_stats in game_date.items():\n",
    "        if game_stats['home'] == 1: count_home +=1\n",
    "        else: count_away += 1\n",
    "print('num home games for all players: ' + str(count_home))\n",
    "print('num away games for all players: ' + str(count_away))"
   ]
  },
  {
   "cell_type": "code",
   "execution_count": 5,
   "id": "honey-citizen",
   "metadata": {
    "scrolled": true
   },
   "outputs": [],
   "source": [
    "# # using the above data wrangling step, build a dict that stores player averages for home and away games\n",
    "# ## this will help to identify possible players that demonstrate increased/decreased adaptability \n",
    "# ## to away game environments\n",
    "# game_dict = {\n",
    "#     'home': 0,\n",
    "#     'dump_retained': 0,       # successful dump in attempt\n",
    "#     'dump_lost': 0,           # unsuccessful dump in attempt\n",
    "#     'faceoff_win': 0,         # face off won\n",
    "#     'faceoff_lost': 0,        # face off lost\n",
    "#     'goals': 0,               # goals\n",
    "#     'shots_attempts': 0,      # total shots\n",
    "#     'shots_on_net': 0,        # number of shots on goal\n",
    "#     'shots_missed': 0,        # number of attempted shots that miss net\n",
    "#     'shots_blocked': 0,       # number of attempted shots that are blocked\n",
    "#     'zone_entry_carried': 0,  # puck carried into offensive zone\n",
    "#     'zone_entry_dumped': 0,   # puck dumped into offesnive zone\n",
    "#     'zone_entry_played': 0,   # puck played into offesnive zone via pass\n",
    "#     'penalty_taken': 0,       # number of penalties taken\n",
    "#     'play_indirect': 0,       # successful indirect passes (i.e. pass rimmed of boards)\n",
    "#     'play_direct': 0,         # successful direct passes (i.e. tape to tape pass)\n",
    "#     'inc_play_indirect': 0,   # unsuccessful indirect passes (i.e. pass rimmed of boards)\n",
    "#     'inc_play_direct': 0,     # unsuccessful direct passes (i.e. tape to tape pass)\n",
    "# }\n",
    "\n",
    "# players_avg = {}\n",
    "# players_avg_home = {}\n",
    "# players_avg_away = {}\n",
    "\n",
    "# for player, games in players.items():\n",
    "#     players_avg[player] = {}\n",
    "#     players_avg[player]['home'] = game_dict.copy()\n",
    "#     players_avg[player]['away'] = game_dict.copy()\n",
    "#     num_home_games = 0\n",
    "#     num_away_games = 0\n",
    "\n",
    "#     # append all stats, count home and away games\n",
    "#     for date, game in games.items():\n",
    "#         if game['home'] == 1:\n",
    "#             num_home_games += 1\n",
    "#             for stat, value in game.items():\n",
    "#                 players_avg[player]['home'][stat] += value\n",
    "#         elif game['home'] == 0:\n",
    "#             num_away_games += 1\n",
    "#             for stat, value in game.items():\n",
    "#                 players_avg[player]['away'][stat] += value\n",
    "    \n",
    "# #     print(player + '\\'s home games: ' + str(num_home_games))\n",
    "# #     print(player + '\\'s away games: ' + str(num_away_games))\n",
    "# #     print()\n",
    "    \n",
    "#     # compute averages of stat\n",
    "#     for stat, value in players_avg[player]['home'].items():\n",
    "#         players_avg[player]['home'][stat] = players_avg[player]['home'][stat] / num_home_games\n",
    "#     for stat, value in players_avg[player]['away'].items():\n",
    "#         players_avg[player]['away'][stat] /= num_away_games\n",
    "\n",
    "#     # keep separate dicts for home and away averages (this makes data analysis step easier)\n",
    "#     players_avg_home[player] = players_avg[player]['home'].copy()\n",
    "#     players_avg_away[player] = players_avg[player]['away'].copy()"
   ]
  },
  {
   "cell_type": "markdown",
   "id": "resident-think",
   "metadata": {},
   "source": [
    "## Data Analysis\n"
   ]
  },
  {
   "cell_type": "code",
   "execution_count": 6,
   "id": "occasional-shade",
   "metadata": {},
   "outputs": [],
   "source": [
    "# df_player_avg_home = pd.DataFrame.from_dict(players_avg_home, orient='index')\n",
    "# df_player_avg_home['shots_attempts'] = df_player_avg_home['shots_blocked'] + df_player_avg_home['shots_on_net'] + df_player_avg_home['shots_missed'] \n",
    "\n",
    "# df_player_avg_away = pd.DataFrame.from_dict(players_avg_away, orient='index')\n",
    "# df_player_avg_away['shots_attempts'] = df_player_avg_away['shots_blocked'] + df_player_avg_away['shots_on_net'] + df_player_avg_away['shots_missed'] \n",
    "\n",
    "# df_player_avg_diff = df_player_avg_home - df_player_avg_away"
   ]
  },
  {
   "cell_type": "markdown",
   "id": "african-terrace",
   "metadata": {},
   "source": [
    "Function to draw a box plot"
   ]
  },
  {
   "cell_type": "code",
   "execution_count": 7,
   "id": "positive-namibia",
   "metadata": {},
   "outputs": [],
   "source": [
    "def draw_boxplot(sig_results, df_home, df_away, player_name):\n",
    "    for c in sig_results:\n",
    "        fig = plt.figure(figsize=(3,5))\n",
    "        fig.patch.set_facecolor('whitesmoke')\n",
    "        fig.add_subplot(111).patch.set_facecolor('gainsboro')\n",
    "        data = [df_home[c], df_away[c]]\n",
    "        ax = plt.boxplot(data, \n",
    "                            widths=0.65, \n",
    "#                             notch=True,\n",
    "                            boxprops=dict(color='navy'),\n",
    "                            medianprops=dict(color='navy'),\n",
    "                            patch_artist=True\n",
    "                        )\n",
    "        colors = ['gold', 'snow']\n",
    "        for patch, color in zip(ax['boxes'], colors):\n",
    "            patch.set_facecolor(color)\n",
    "        plt.title(player_name + '\\n' + c)\n",
    "        plt.xticks([1,2], ['Home', 'Away'])\n",
    "        plt.show()\n",
    "        return fig\n",
    "#         fig.savefig(str('output/' + c + '_team'), dpi=fig.dpi)\n",
    "#         print(t_results[count])"
   ]
  },
  {
   "cell_type": "markdown",
   "id": "soviet-radiation",
   "metadata": {},
   "source": [
    "For each player on the Erie Otters roster with at least 8 games played, perform 2-sample t-tests to identify players with stats that significantly differ between home and away games."
   ]
  },
  {
   "cell_type": "code",
   "execution_count": 8,
   "id": "large-oxide",
   "metadata": {
    "scrolled": true
   },
   "outputs": [
    {
     "name": "stdout",
     "output_type": "stream",
     "text": [
      "Connor Lockhart\n",
      "num home games: 18\n",
      "num away games: 20\n",
      "['shots_attempts', 'shots_missed']\n",
      "\n"
     ]
    },
    {
     "data": {
      "image/png": "[encoded data removed]",
      "text/plain": [
       "<Figure size 216x360 with 1 Axes>"
      ]
     },
     "metadata": {},
     "output_type": "display_data"
    },
    {
     "name": "stdout",
     "output_type": "stream",
     "text": [
      "Hayden Fowler\n",
      "num home games: 17\n",
      "num away games: 17\n",
      "['faceoff_lost', 'penalty_taken']\n",
      "\n"
     ]
    },
    {
     "data": {
      "image/png": "[encoded data removed]",
      "text/plain": [
       "<Figure size 216x360 with 1 Axes>"
      ]
     },
     "metadata": {},
     "output_type": "display_data"
    },
    {
     "name": "stdout",
     "output_type": "stream",
     "text": [
      "Jamie Drysdale\n",
      "num home games: 15\n",
      "num away games: 15\n",
      "[]\n",
      "\n",
      "Kurtis Henry\n",
      "num home games: 19\n",
      "num away games: 21\n",
      "['penalty_taken']\n",
      "\n"
     ]
    },
    {
     "data": {
      "image/png": "[encoded data removed]",
      "text/plain": [
       "<Figure size 216x360 with 1 Axes>"
      ]
     },
     "metadata": {},
     "output_type": "display_data"
    },
    {
     "name": "stdout",
     "output_type": "stream",
     "text": [
      "Brendan Sellan\n",
      "num home games: 19\n",
      "num away games: 21\n",
      "[]\n",
      "\n",
      "Danial Singer\n",
      "num home games: 10\n",
      "num away games: 9\n",
      "['goals', 'zone_entry_played', 'inc_play_indirect']\n",
      "\n"
     ]
    },
    {
     "data": {
      "image/png": "[encoded data removed]",
      "text/plain": [
       "<Figure size 216x360 with 1 Axes>"
      ]
     },
     "metadata": {},
     "output_type": "display_data"
    },
    {
     "name": "stdout",
     "output_type": "stream",
     "text": [
      "Austen Swankler\n",
      "num home games: 18\n",
      "num away games: 19\n",
      "['play_indirect', 'play_direct', 'play_total', 'play_attempts']\n",
      "\n"
     ]
    },
    {
     "data": {
      "image/png": "[encoded data removed]",
      "text/plain": [
       "<Figure size 216x360 with 1 Axes>"
      ]
     },
     "metadata": {},
     "output_type": "display_data"
    },
    {
     "name": "stdout",
     "output_type": "stream",
     "text": [
      "Jacob Golden\n",
      "num home games: 17\n",
      "num away games: 17\n",
      "['inc_play_indirect']\n",
      "\n"
     ]
    },
    {
     "data": {
      "image/png": "[encoded data removed]",
      "text/plain": [
       "<Figure size 216x360 with 1 Axes>"
      ]
     },
     "metadata": {},
     "output_type": "display_data"
    },
    {
     "name": "stdout",
     "output_type": "stream",
     "text": [
      "Emmett Sproule\n",
      "num home games: 19\n",
      "num away games: 21\n",
      "[]\n",
      "\n",
      "Jack Duff\n",
      "num home games: 19\n",
      "num away games: 21\n",
      "[]\n",
      "\n",
      "Chad Yetman\n",
      "num home games: 19\n",
      "num away games: 20\n",
      "['faceoff_win', 'faceoff_percent']\n",
      "\n"
     ]
    },
    {
     "data": {
      "image/png": "[encoded data removed]",
      "text/plain": [
       "<Figure size 216x360 with 1 Axes>"
      ]
     },
     "metadata": {},
     "output_type": "display_data"
    },
    {
     "name": "stdout",
     "output_type": "stream",
     "text": [
      "Maxim Golod\n",
      "num home games: 19\n",
      "num away games: 21\n",
      "['faceoff_win', 'faceoff_lost']\n",
      "\n"
     ]
    },
    {
     "data": {
      "image/png": "[encoded data removed]",
      "text/plain": [
       "<Figure size 216x360 with 1 Axes>"
      ]
     },
     "metadata": {},
     "output_type": "display_data"
    },
    {
     "name": "stdout",
     "output_type": "stream",
     "text": [
      "Elias Cohen\n",
      "num home games: 16\n",
      "num away games: 19\n",
      "['shots_blocked']\n",
      "\n"
     ]
    },
    {
     "data": {
      "image/png": "[encoded data removed]",
      "text/plain": [
       "<Figure size 216x360 with 1 Axes>"
      ]
     },
     "metadata": {},
     "output_type": "display_data"
    },
    {
     "name": "stdout",
     "output_type": "stream",
     "text": [
      "Brendan Kischnick\n",
      "num home games: 7\n",
      "num away games: 10\n",
      "[]\n",
      "\n",
      "Brendan Hoffmann\n",
      "num home games: 19\n",
      "num away games: 21\n",
      "[]\n",
      "\n",
      "Luke Beamish\n",
      "num home games: 6\n",
      "num away games: 4\n",
      "[]\n",
      "\n",
      "Daniel D'Amato\n",
      "num home games: 19\n",
      "num away games: 21\n",
      "['faceoff_lost', 'inc_play_total']\n",
      "\n"
     ]
    },
    {
     "data": {
      "image/png": "[encoded data removed]",
      "text/plain": [
       "<Figure size 216x360 with 1 Axes>"
      ]
     },
     "metadata": {},
     "output_type": "display_data"
    },
    {
     "name": "stdout",
     "output_type": "stream",
     "text": [
      "Daniel Murphy\n",
      "num home games: 13\n",
      "num away games: 15\n",
      "['play_direct', 'inc_play_indirect']\n",
      "\n"
     ]
    },
    {
     "data": {
      "image/png": "[encoded data removed]",
      "text/plain": [
       "<Figure size 216x360 with 1 Axes>"
      ]
     },
     "metadata": {},
     "output_type": "display_data"
    },
    {
     "name": "stdout",
     "output_type": "stream",
     "text": [
      "Aidan Campbell\n",
      "num home games: 8\n",
      "num away games: 9\n",
      "[]\n",
      "\n",
      "Cameron Morton\n",
      "num home games: 17\n",
      "num away games: 19\n",
      "[]\n",
      "\n",
      "Noah Sedore\n",
      "num home games: 14\n",
      "num away games: 14\n",
      "[]\n",
      "\n",
      "Matthew MacDougall\n",
      "num home games: 9\n",
      "num away games: 7\n",
      "[]\n",
      "\n",
      "Christian Kyrou\n",
      "num home games: 3\n",
      "num away games: 7\n",
      "['shots_attempts', 'shots_blocked']\n",
      "\n"
     ]
    },
    {
     "data": {
      "image/png": "[encoded data removed]",
      "text/plain": [
       "<Figure size 216x360 with 1 Axes>"
      ]
     },
     "metadata": {},
     "output_type": "display_data"
    },
    {
     "name": "stdout",
     "output_type": "stream",
     "text": [
      "Drew Hunter\n",
      "num home games: 12\n",
      "num away games: 16\n",
      "['shots_on_net']\n",
      "\n"
     ]
    },
    {
     "data": {
      "image/png": "[encoded data removed]",
      "text/plain": [
       "<Figure size 216x360 with 1 Axes>"
      ]
     },
     "metadata": {},
     "output_type": "display_data"
    },
    {
     "name": "stdout",
     "output_type": "stream",
     "text": [
      "Kyen Sopa\n",
      "num home games: 9\n",
      "num away games: 6\n",
      "['shots_on_net', 'inc_play_total']\n",
      "\n"
     ]
    },
    {
     "data": {
      "image/png": "[encoded data removed]",
      "text/plain": [
       "<Figure size 216x360 with 1 Axes>"
      ]
     },
     "metadata": {},
     "output_type": "display_data"
    },
    {
     "name": "stdout",
     "output_type": "stream",
     "text": [
      "unaffected players:\n",
      "['Jamie Drysdale',\n",
      " 'Brendan Sellan',\n",
      " 'Emmett Sproule',\n",
      " 'Jack Duff',\n",
      " 'Brendan Kischnick',\n",
      " 'Brendan Hoffmann',\n",
      " 'Luke Beamish',\n",
      " 'Aidan Campbell',\n",
      " 'Cameron Morton',\n",
      " 'Noah Sedore',\n",
      " 'Matthew MacDougall']\n"
     ]
    }
   ],
   "source": [
    "unaffected_players = []\n",
    "sig_effects = {}\n",
    "total_player_count = 0\n",
    "for player, games in players.items():\n",
    "    df_player = pd.DataFrame.from_dict(games, orient='index')\n",
    "    if len(df_player) < 8:  # players with less than 5 games have sample size too small to test for significance\n",
    "        continue\n",
    "    total_player_count += 1\n",
    "    \n",
    "    # do a little more data wrangling\n",
    "    df_player['play_total'] = df_player['play_direct'] + df_player['play_indirect']\n",
    "    df_player['inc_play_total'] = df_player['inc_play_direct'] + df_player['inc_play_indirect']\n",
    "    df_player['play_attempts'] = df_player['play_total'] + df_player['inc_play_total']\n",
    "    df_player['shots_attempts'] = df_player['shots_blocked'] + df_player['shots_on_net'] + df_player['shots_missed']\n",
    "    df_player['faceoff_percent'] = df_player['faceoff_win'] / (df_player['faceoff_win'] + df_player['faceoff_lost'])\n",
    "    \n",
    "    # split dataframe into home and away stats\n",
    "    df_home = df_player[df_player['home']==1]  # home stats\n",
    "    df_away = df_player[df_player['home']==0]  # away stats\n",
    "    \n",
    "    # test each stat for significant difference in means between home and away games\n",
    "    columns = df_home.columns.values.tolist()[1:]  # list of columns\n",
    "    sig_results = []\n",
    "    t_results = []\n",
    "    for c in columns:\n",
    "        t_result = ttest_ind(df_home[c], df_away[c], equal_var=False)\n",
    "        if c not in sig_effects:\n",
    "            sig_effects[c] = 0\n",
    "        if t_result.pvalue < 0.05:  # significant difference between home and away games found in this stat 'c'\n",
    "            sig_results.append(c)\n",
    "            t_results.append(t_result)\n",
    "            sig_effects[c] += 1\n",
    "    \n",
    "    # if a player has no significant differences in stats between home and away games, add to list of 'unaffected players'\n",
    "    if len(sig_results) == 0:\n",
    "        unaffected_players.append(player)\n",
    "    print(player)\n",
    "    print('num home games: ' + str(len(df_home)))\n",
    "    print('num away games: ' + str(len(df_away)))\n",
    "    print(sig_results)\n",
    "    print()\n",
    "    draw_boxplot(sig_results, df_home, df_away, player)\n",
    "\n",
    "print('unaffected players:')\n",
    "pprint.pprint(unaffected_players)\n",
    "\n"
   ]
  },
  {
   "cell_type": "code",
   "execution_count": 9,
   "id": "orange-executive",
   "metadata": {},
   "outputs": [
    {
     "name": "stdout",
     "output_type": "stream",
     "text": [
      "Number of players in testing: 25\n",
      "Number of metrics tracked: 21\n",
      "Total effects found: 27\n",
      "Maximum possible effects: 525\n"
     ]
    },
    {
     "data": {
      "text/html": [
       "<div>\n",
       "<style scoped>\n",
       "    .dataframe tbody tr th:only-of-type {\n",
       "        vertical-align: middle;\n",
       "    }\n",
       "\n",
       "    .dataframe tbody tr th {\n",
       "        vertical-align: top;\n",
       "    }\n",
       "\n",
       "    .dataframe thead th {\n",
       "        text-align: right;\n",
       "    }\n",
       "</style>\n",
       "<table border=\"1\" class=\"dataframe\">\n",
       "  <thead>\n",
       "    <tr style=\"text-align: right;\">\n",
       "      <th></th>\n",
       "      <th>Significant Counts</th>\n",
       "    </tr>\n",
       "  </thead>\n",
       "  <tbody>\n",
       "    <tr>\n",
       "      <th>dump_retained</th>\n",
       "      <td>0</td>\n",
       "    </tr>\n",
       "    <tr>\n",
       "      <th>dump_lost</th>\n",
       "      <td>0</td>\n",
       "    </tr>\n",
       "    <tr>\n",
       "      <th>faceoff_win</th>\n",
       "      <td>2</td>\n",
       "    </tr>\n",
       "    <tr>\n",
       "      <th>faceoff_lost</th>\n",
       "      <td>3</td>\n",
       "    </tr>\n",
       "    <tr>\n",
       "      <th>goals</th>\n",
       "      <td>1</td>\n",
       "    </tr>\n",
       "    <tr>\n",
       "      <th>shots_attempts</th>\n",
       "      <td>2</td>\n",
       "    </tr>\n",
       "    <tr>\n",
       "      <th>shots_on_net</th>\n",
       "      <td>2</td>\n",
       "    </tr>\n",
       "    <tr>\n",
       "      <th>shots_missed</th>\n",
       "      <td>1</td>\n",
       "    </tr>\n",
       "    <tr>\n",
       "      <th>shots_blocked</th>\n",
       "      <td>2</td>\n",
       "    </tr>\n",
       "    <tr>\n",
       "      <th>zone_entry_carried</th>\n",
       "      <td>0</td>\n",
       "    </tr>\n",
       "    <tr>\n",
       "      <th>zone_entry_dumped</th>\n",
       "      <td>0</td>\n",
       "    </tr>\n",
       "    <tr>\n",
       "      <th>zone_entry_played</th>\n",
       "      <td>1</td>\n",
       "    </tr>\n",
       "    <tr>\n",
       "      <th>penalty_taken</th>\n",
       "      <td>2</td>\n",
       "    </tr>\n",
       "    <tr>\n",
       "      <th>play_indirect</th>\n",
       "      <td>1</td>\n",
       "    </tr>\n",
       "    <tr>\n",
       "      <th>play_direct</th>\n",
       "      <td>2</td>\n",
       "    </tr>\n",
       "    <tr>\n",
       "      <th>inc_play_indirect</th>\n",
       "      <td>3</td>\n",
       "    </tr>\n",
       "    <tr>\n",
       "      <th>inc_play_direct</th>\n",
       "      <td>0</td>\n",
       "    </tr>\n",
       "    <tr>\n",
       "      <th>play_total</th>\n",
       "      <td>1</td>\n",
       "    </tr>\n",
       "    <tr>\n",
       "      <th>inc_play_total</th>\n",
       "      <td>2</td>\n",
       "    </tr>\n",
       "    <tr>\n",
       "      <th>play_attempts</th>\n",
       "      <td>1</td>\n",
       "    </tr>\n",
       "    <tr>\n",
       "      <th>faceoff_percent</th>\n",
       "      <td>1</td>\n",
       "    </tr>\n",
       "  </tbody>\n",
       "</table>\n",
       "</div>"
      ],
      "text/plain": [
       "                    Significant Counts\n",
       "dump_retained                        0\n",
       "dump_lost                            0\n",
       "faceoff_win                          2\n",
       "faceoff_lost                         3\n",
       "goals                                1\n",
       "shots_attempts                       2\n",
       "shots_on_net                         2\n",
       "shots_missed                         1\n",
       "shots_blocked                        2\n",
       "zone_entry_carried                   0\n",
       "zone_entry_dumped                    0\n",
       "zone_entry_played                    1\n",
       "penalty_taken                        2\n",
       "play_indirect                        1\n",
       "play_direct                          2\n",
       "inc_play_indirect                    3\n",
       "inc_play_direct                      0\n",
       "play_total                           1\n",
       "inc_play_total                       2\n",
       "play_attempts                        1\n",
       "faceoff_percent                      1"
      ]
     },
     "execution_count": 9,
     "metadata": {},
     "output_type": "execute_result"
    }
   ],
   "source": [
    "df_sig_effects = pd.DataFrame.from_dict(sig_effects, orient='index')\n",
    "df_sig_effects.columns = ['Significant Counts']\n",
    "print('Number of players in testing: ' + str(total_player_count))\n",
    "print('Number of metrics tracked: ' + str(len(df_sig_effects)))\n",
    "print('Total effects found: ' + str(int(df_sig_effects['Significant Counts'].sum())))\n",
    "print('Maximum possible effects: ' + str(total_player_count * len(df_sig_effects)))\n",
    "df_sig_effects"
   ]
  },
  {
   "cell_type": "markdown",
   "id": "descending-rabbit",
   "metadata": {},
   "source": [
    "## Review\n",
    "Highlight some interesting significant differences that we found"
   ]
  },
  {
   "cell_type": "markdown",
   "id": "concerned-destruction",
   "metadata": {},
   "source": [
    "##### Hayden Fowler and Penalties Taken\n",
    "A significant difference in the mean amount of penalties taken between home and away games was found in Fowler's data (t=-2.46, p-val=0.02). While the distribution for 'penalties taken' is skewed to the left (most games have values of zero), it was found the Fowler takes many more penaties in away games than he does in home games. In fact, in Fowler's 17 home games, there are only three games where he takes a single penalty. In Fowler's 17 away games, there are 8 occurences where he takes at least one penalty and 5 occurences of multi-penalty games.\n",
    "\n",
    "The significant difference in penalties taken begs the question, 'What is causing Fowler to display a lower level of discipline in road games?' It is possible that this player loses discipline due to the demands of travel.   "
   ]
  },
  {
   "cell_type": "code",
   "execution_count": 10,
   "id": "overhead-awareness",
   "metadata": {
    "scrolled": false
   },
   "outputs": [
    {
     "name": "stdout",
     "output_type": "stream",
     "text": [
      "Fowler's penalties in 17 home games:\n",
      "2019-09-20    0\n",
      "2019-10-04    1\n",
      "2019-10-11    0\n",
      "2019-10-12    0\n",
      "2019-10-19    0\n",
      "2019-10-23    0\n",
      "2019-10-26    0\n",
      "2019-11-15    1\n",
      "2019-12-08    0\n",
      "2019-12-31    0\n",
      "2020-01-11    0\n",
      "2020-01-12    1\n",
      "2020-02-07    0\n",
      "2020-02-08    0\n",
      "2020-02-12    0\n",
      "2020-03-04    0\n",
      "2020-03-08    0\n",
      "Name: penalty_taken, dtype: int64\n",
      "\n",
      "Fowler's penalties in 17 away games:\n",
      "2019-09-21    1\n",
      "2019-09-26    0\n",
      "2019-10-17    2\n",
      "2019-10-18    1\n",
      "2019-11-09    2\n",
      "2019-11-17    3\n",
      "2019-11-21    0\n",
      "2019-11-22    0\n",
      "2019-12-13    2\n",
      "2019-12-15    0\n",
      "2019-12-29    0\n",
      "2020-01-03    0\n",
      "2020-01-05    0\n",
      "2020-01-17    0\n",
      "2020-01-18    0\n",
      "2020-01-31    3\n",
      "2020-03-07    1\n",
      "Name: penalty_taken, dtype: int64\n",
      "\n",
      "Ttest_indResult(statistic=-2.4688535993934706, pvalue=0.02272101999330909)\n"
     ]
    },
    {
     "data": {
      "image/png": "[encoded data removed]",
      "text/plain": [
       "<Figure size 216x360 with 1 Axes>"
      ]
     },
     "metadata": {},
     "output_type": "display_data"
    }
   ],
   "source": [
    "stat = 'penalty_taken'\n",
    "df_tmp = pd.DataFrame.from_dict(players['Hayden Fowler'], orient='index')\n",
    "print('Fowler\\'s penalties in ' + str(len(df_tmp[df_tmp['home']==1])) + ' home games:')\n",
    "print(df_tmp[df_tmp['home']==1][stat])\n",
    "print()\n",
    "print('Fowler\\'s penalties in ' + str(len(df_tmp[df_tmp['home']==0])) + ' away games:')\n",
    "print(df_tmp[df_tmp['home']==0][stat])\n",
    "print()\n",
    "print(ttest_ind(df_tmp[df_tmp['home']==1][stat], df_tmp[df_tmp['home']==0][stat], equal_var=False))\n",
    "fig = draw_boxplot(['penalty_taken'], df_tmp[df_tmp['home']==1], df_tmp[df_tmp['home']==0], 'Hayden Fowler')\n",
    "fig.savefig(str('output/' + stat + '_' + 'Fowler'), dpi=fig.dpi)"
   ]
  },
  {
   "cell_type": "markdown",
   "id": "seventh-tennis",
   "metadata": {},
   "source": [
    "##### Austen Swankler and Complete Passes\n",
    "Among Austen Swankler's performance, a significant difference in the average number of complete passes between home and away games was found (t=3.14, p-val=0.003). In our data, tracking the number of complete passes serves as a proxy for measuring puck possession. It can be generalized that increasing puck possession increases probability team success. Swankler has decreased puck possession in away games and, therefore, decreases his team's liklihood of winning away games.\n",
    "\n",
    "When comparing Swankler's home and away possession metrics (number of complete passes), we notice a significant decrease in possession when Swankler plays away games."
   ]
  },
  {
   "cell_type": "code",
   "execution_count": 11,
   "id": "superior-animation",
   "metadata": {
    "scrolled": false
   },
   "outputs": [
    {
     "name": "stdout",
     "output_type": "stream",
     "text": [
      "Swankler's total complete passes in 18 home games:\n",
      "Average complete passes: 19.88888888888889\n",
      "\n",
      "Swankler's total complete passes in 19 away games:\n",
      "Average complete passes: 14.473684210526315\n",
      "\n",
      "Ttest_indResult(statistic=3.1428826722615018, pvalue=0.0034331200638436222)\n"
     ]
    },
    {
     "data": {
      "image/png": "[encoded data removed]",
      "text/plain": [
       "<Figure size 216x360 with 1 Axes>"
      ]
     },
     "metadata": {},
     "output_type": "display_data"
    }
   ],
   "source": [
    "stat = 'play_total'\n",
    "df_tmp = pd.DataFrame.from_dict(players['Austen Swankler'], orient='index')\n",
    "df_tmp['play_total'] = df_tmp['play_direct'] + df_tmp['play_indirect']\n",
    "print('Swankler\\'s total complete passes in ' + str(len(df_tmp[df_tmp['home']==1])) + ' home games:')\n",
    "print('Average complete passes: ' + str(float(df_tmp[df_tmp['home']==1][stat].mean())))\n",
    "print()\n",
    "print('Swankler\\'s total complete passes in ' + str(len(df_tmp[df_tmp['home']==0])) + ' away games:')\n",
    "print('Average complete passes: ' + str(float(df_tmp[df_tmp['home']==0][stat].mean())))\n",
    "print()\n",
    "print(ttest_ind(df_tmp[df_tmp['home']==1][stat], df_tmp[df_tmp['home']==0][stat], equal_var=False))\n",
    "fig = draw_boxplot(['play_total'], df_tmp[df_tmp['home']==1], df_tmp[df_tmp['home']==0], 'Austen Swankler')\n",
    "fig.savefig(str('output/' + stat + '_' + 'Swankler'), dpi=fig.dpi)"
   ]
  },
  {
   "cell_type": "markdown",
   "id": "proprietary-aircraft",
   "metadata": {},
   "source": [
    "##### Chad Yetman and Faceoff Percentage\n",
    "It was found that Chad Yetman won 10% less faceoffs in road games than in home games. This difference was found to be significant (t=2.73 p-val=0.009). Faceoff percentage can be another measure puck possession--usually winning a faceoff gives your team possession of the puck to start a play. Yetman's decreased faceoff percentage in road games hurts his team's possession metrics and, additionally, can hurt his teams ability to score goals (you cannot score goals if you do not have possession of the puck)."
   ]
  },
  {
   "cell_type": "code",
   "execution_count": 12,
   "id": "experimental-russia",
   "metadata": {
    "scrolled": false
   },
   "outputs": [
    {
     "name": "stdout",
     "output_type": "stream",
     "text": [
      "Yetman's faceoff percentage in 19 home games:\n",
      "0.5242296342302364\n",
      "faceoffs taken: 379\n",
      "\n",
      "Yetman's faceoff percentage in 20 away games:\n",
      "0.42353166542256593\n",
      "faceoffs taken: 345\n",
      "\n",
      "Ttest_indResult(statistic=2.727566993808008, pvalue=0.009754909856309411)\n"
     ]
    },
    {
     "data": {
      "image/png": "[encoded data removed]",
      "text/plain": [
       "<Figure size 216x360 with 1 Axes>"
      ]
     },
     "metadata": {},
     "output_type": "display_data"
    }
   ],
   "source": [
    "stat = 'faceoff_percent'\n",
    "df_tmp = pd.DataFrame.from_dict(players['Chad Yetman'], orient='index')\n",
    "df_tmp['play_total'] = df_tmp['play_direct'] + df_tmp['play_indirect']\n",
    "df_tmp['faceoff_percent'] = df_tmp['faceoff_win'] / (df_tmp['faceoff_win'] + df_tmp['faceoff_lost'])\n",
    "print('Yetman\\'s faceoff percentage in ' + str(len(df_tmp[df_tmp['home']==1])) + ' home games:')\n",
    "print(df_tmp[df_tmp['home']==1][stat].mean())\n",
    "print('faceoffs taken: ' + str(int(df_tmp[df_tmp['home']==1]['faceoff_win'].sum()) + df_tmp[df_tmp['home']==1]['faceoff_lost'].sum()))\n",
    "print()\n",
    "print('Yetman\\'s faceoff percentage in ' + str(len(df_tmp[df_tmp['home']==0])) + ' away games:')\n",
    "print(df_tmp[df_tmp['home']==0][stat].mean())\n",
    "print('faceoffs taken: ' + str(int(df_tmp[df_tmp['home']==0]['faceoff_win'].sum()) + df_tmp[df_tmp['home']==0]['faceoff_lost'].sum()))\n",
    "print()\n",
    "print(ttest_ind(df_tmp[df_tmp['home']==1][stat], df_tmp[df_tmp['home']==0][stat], equal_var=False))\n",
    "fig = draw_boxplot(['faceoff_percent'], df_tmp[df_tmp['home']==1], df_tmp[df_tmp['home']==0], 'Chad Yetman')\n",
    "fig.savefig(str('output/' + stat + '_' + 'Yetman'), dpi=fig.dpi)"
   ]
  },
  {
   "cell_type": "markdown",
   "id": "imposed-greensboro",
   "metadata": {},
   "source": [
    "##### Unaffected Players\n",
    "Below is a printout of players without significant differences in stats between home and away games. After running 2-sample t-tests to compare each stat for differences in home and away performance, no significant differences were uncovered. These players play at the same level regardless of where a game is played and how much travel is required to get to a game."
   ]
  },
  {
   "cell_type": "code",
   "execution_count": 13,
   "id": "handy-musician",
   "metadata": {},
   "outputs": [
    {
     "data": {
      "text/html": [
       "<div>\n",
       "<style scoped>\n",
       "    .dataframe tbody tr th:only-of-type {\n",
       "        vertical-align: middle;\n",
       "    }\n",
       "\n",
       "    .dataframe tbody tr th {\n",
       "        vertical-align: top;\n",
       "    }\n",
       "\n",
       "    .dataframe thead th {\n",
       "        text-align: right;\n",
       "    }\n",
       "</style>\n",
       "<table border=\"1\" class=\"dataframe\">\n",
       "  <thead>\n",
       "    <tr style=\"text-align: right;\">\n",
       "      <th></th>\n",
       "      <th>shots_on_net</th>\n",
       "      <th>goals</th>\n",
       "      <th>play_total</th>\n",
       "    </tr>\n",
       "  </thead>\n",
       "  <tbody>\n",
       "    <tr>\n",
       "      <th>Jamie Drysdale</th>\n",
       "      <td>75</td>\n",
       "      <td>6</td>\n",
       "      <td>1132</td>\n",
       "    </tr>\n",
       "    <tr>\n",
       "      <th>Jack Duff</th>\n",
       "      <td>56</td>\n",
       "      <td>2</td>\n",
       "      <td>769</td>\n",
       "    </tr>\n",
       "    <tr>\n",
       "      <th>Emmett Sproule</th>\n",
       "      <td>60</td>\n",
       "      <td>8</td>\n",
       "      <td>552</td>\n",
       "    </tr>\n",
       "    <tr>\n",
       "      <th>Brendan Sellan</th>\n",
       "      <td>80</td>\n",
       "      <td>9</td>\n",
       "      <td>530</td>\n",
       "    </tr>\n",
       "    <tr>\n",
       "      <th>Cameron Morton</th>\n",
       "      <td>30</td>\n",
       "      <td>2</td>\n",
       "      <td>397</td>\n",
       "    </tr>\n",
       "    <tr>\n",
       "      <th>Brendan Hoffmann</th>\n",
       "      <td>74</td>\n",
       "      <td>8</td>\n",
       "      <td>359</td>\n",
       "    </tr>\n",
       "    <tr>\n",
       "      <th>Luke Beamish</th>\n",
       "      <td>11</td>\n",
       "      <td>0</td>\n",
       "      <td>261</td>\n",
       "    </tr>\n",
       "    <tr>\n",
       "      <th>Noah Sedore</th>\n",
       "      <td>20</td>\n",
       "      <td>1</td>\n",
       "      <td>199</td>\n",
       "    </tr>\n",
       "    <tr>\n",
       "      <th>Brendan Kischnick</th>\n",
       "      <td>12</td>\n",
       "      <td>0</td>\n",
       "      <td>180</td>\n",
       "    </tr>\n",
       "    <tr>\n",
       "      <th>Aidan Campbell</th>\n",
       "      <td>0</td>\n",
       "      <td>0</td>\n",
       "      <td>177</td>\n",
       "    </tr>\n",
       "    <tr>\n",
       "      <th>Matthew MacDougall</th>\n",
       "      <td>20</td>\n",
       "      <td>1</td>\n",
       "      <td>150</td>\n",
       "    </tr>\n",
       "  </tbody>\n",
       "</table>\n",
       "</div>"
      ],
      "text/plain": [
       "                    shots_on_net  goals  play_total\n",
       "Jamie Drysdale                75      6        1132\n",
       "Jack Duff                     56      2         769\n",
       "Emmett Sproule                60      8         552\n",
       "Brendan Sellan                80      9         530\n",
       "Cameron Morton                30      2         397\n",
       "Brendan Hoffmann              74      8         359\n",
       "Luke Beamish                  11      0         261\n",
       "Noah Sedore                   20      1         199\n",
       "Brendan Kischnick             12      0         180\n",
       "Aidan Campbell                 0      0         177\n",
       "Matthew MacDougall            20      1         150"
      ]
     },
     "execution_count": 13,
     "metadata": {},
     "output_type": "execute_result"
    }
   ],
   "source": [
    "unaffected_data = {}\n",
    "\n",
    "# get player stat totals \n",
    "for player_name in unaffected_players:\n",
    "    unaffected_data[player_name] = {}\n",
    "    all_players_games = players[player_name]\n",
    "    for game, stat_list in all_players_games.items():\n",
    "        if len(unaffected_data[player_name]) == 0:\n",
    "            unaffected_data[player_name] = stat_list.copy()\n",
    "            continue\n",
    "        for stat, value in stat_list.items():\n",
    "            unaffected_data[player_name][stat] += value\n",
    "\n",
    "df_unaffected = pd.DataFrame.from_dict(unaffected_data, orient='index')\n",
    "df_unaffected['play_total'] = df_unaffected['play_direct'] + df_unaffected['play_indirect']\n",
    "df_unaffected.sort_values(['play_total', 'goals'], inplace=True, ascending=False)\n",
    "df_unaffected[['shots_on_net', 'goals', 'play_total']]\n",
    "# unaffected_data['Jamie Drysdale']"
   ]
  },
  {
   "cell_type": "code",
   "execution_count": null,
   "id": "cosmetic-cargo",
   "metadata": {},
   "outputs": [],
   "source": []
  }
 ],
 "metadata": {
  "kernelspec": {
   "display_name": "Python 3",
   "language": "python",
   "name": "python3"
  },
  "language_info": {
   "codemirror_mode": {
    "name": "ipython",
    "version": 3
   },
   "file_extension": ".py",
   "mimetype": "text/x-python",
   "name": "python",
   "nbconvert_exporter": "python",
   "pygments_lexer": "ipython3",
   "version": "3.8.1"
  }
 },
 "nbformat": 4,
 "nbformat_minor": 5
}
